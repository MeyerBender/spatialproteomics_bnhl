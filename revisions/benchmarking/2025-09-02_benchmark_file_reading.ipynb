{
 "cells": [
  {
   "cell_type": "code",
   "execution_count": 1,
   "id": "200b9d20-7077-463f-bfca-75dea796c344",
   "metadata": {
    "tags": []
   },
   "outputs": [],
   "source": [
    "import os\n",
    "import time\n",
    "import tracemalloc\n",
    "from glob import glob\n",
    "\n",
    "import xarray as xr\n",
    "import tifffile\n",
    "import numpy as np\n",
    "import pandas as pd\n",
    "import seaborn as sns\n",
    "import matplotlib.pyplot as plt\n",
    "import spatialproteomics as sp\n",
    "from tqdm.auto import tqdm\n",
    "import gc\n",
    "\n",
    "# this is just for testing\n",
    "num_samples = 40\n",
    "\n",
    "channel_options_numeric = [1, 5, 10, 20, 30, 40, 50, 56]\n",
    "channels = list(pd.read_csv('/g/huber/projects/CITEseq/CODEX/BNHL_TMA/MarkerList.txt', header=None)[0])\n",
    "channel_options_string = [channels[:x] if x is not None else channels for x in channel_options_numeric]\n",
    "results = []\n",
    "\n",
    "def benchmark_read_tiff(path, channels=None, spatial_subset=None):\n",
    "    \"\"\"Read full TIFF first, then subset in memory (channels and/or spatial).\"\"\"\n",
    "    tracemalloc.start()\n",
    "    start = time.perf_counter()\n",
    "\n",
    "    # reading\n",
    "    img = tifffile.imread(path)\n",
    "\n",
    "    # subsetting\n",
    "    if channels is not None:\n",
    "        if spatial_subset is None:\n",
    "            img = img[:channels, ...]\n",
    "        else:\n",
    "            img = img[:channels, 0:spatial_subset, 0:spatial_subset]\n",
    "    elif spatial_subset is not None:\n",
    "        img = img[:, 0:spatial_subset, 0:spatial_subset]\n",
    "\n",
    "    end = time.perf_counter()\n",
    "    _, peak = tracemalloc.get_traced_memory()\n",
    "    tracemalloc.stop()\n",
    "\n",
    "    return end - start, peak / 1e6\n",
    "\n",
    "def benchmark_read_zarr(path, channels=None, spatial_subset=None, trigger_read=True):\n",
    "    \"\"\"Read Zarr file with optional channel + spatial subsetting.\"\"\"\n",
    "    tracemalloc.start()\n",
    "    start = time.perf_counter()\n",
    "\n",
    "    # read file\n",
    "    ds = xr.open_zarr(path)\n",
    "    \n",
    "    # subset file\n",
    "    if channels is not None:\n",
    "        if spatial_subset is None:\n",
    "            ds = ds.pp[channels]\n",
    "        else:\n",
    "            ds = ds.pp[channels, 0:spatial_subset, 0:spatial_subset]\n",
    "    elif spatial_subset is not None:\n",
    "        ds = ds.pp[0:spatial_subset, 0:spatial_subset]\n",
    "        \n",
    "    if trigger_read:\n",
    "        ds = ds[\"_image\"].values  # trigger actual read\n",
    "\n",
    "    end = time.perf_counter()\n",
    "    _, peak = tracemalloc.get_traced_memory()\n",
    "    tracemalloc.stop()\n",
    "\n",
    "    return end - start, peak / 1e6  # runtime (s), memory (MB)"
   ]
  },
  {
   "cell_type": "code",
   "execution_count": 2,
   "id": "a2ef42f4-6408-4364-b6e6-20ce48177004",
   "metadata": {
    "tags": []
   },
   "outputs": [
    {
     "name": "stdout",
     "output_type": "stream",
     "text": [
      "[1, 5, 10, 20, 30, 40, 50, 56]\n",
      "[['DAPI'], ['DAPI', 'Helios', 'CD10', 'TCF7/TCF1', 'PD-L1'], ['DAPI', 'Helios', 'CD10', 'TCF7/TCF1', 'PD-L1', 'BCL-6', 'FOXP3', 'CD69', 'Perforin', 'CD19'], ['DAPI', 'Helios', 'CD10', 'TCF7/TCF1', 'PD-L1', 'BCL-6', 'FOXP3', 'CD69', 'Perforin', 'CD19', 'LAG3', 'CD21', 'CD62L', 'c-myc', 'CD138', 'CD15', 'BCL-2', 'CD56', 'IKZF3', 'CD25'], ['DAPI', 'Helios', 'CD10', 'TCF7/TCF1', 'PD-L1', 'BCL-6', 'FOXP3', 'CD69', 'Perforin', 'CD19', 'LAG3', 'CD21', 'CD62L', 'c-myc', 'CD138', 'CD15', 'BCL-2', 'CD56', 'IKZF3', 'CD25', 'NOXA', 'Tim3', 'Serpin B9', 'Podoplanin', 'CD38', 'SPARC', 'ICOS', 'CXCR5', 'CD163', 'FADD'], ['DAPI', 'Helios', 'CD10', 'TCF7/TCF1', 'PD-L1', 'BCL-6', 'FOXP3', 'CD69', 'Perforin', 'CD19', 'LAG3', 'CD21', 'CD62L', 'c-myc', 'CD138', 'CD15', 'BCL-2', 'CD56', 'IKZF3', 'CD25', 'NOXA', 'Tim3', 'Serpin B9', 'Podoplanin', 'CD38', 'SPARC', 'ICOS', 'CXCR5', 'CD163', 'FADD', 'p53', 'Collagen IV', 'CD4', 'CD7', 'Kappa', 'CD20', 'CD34', 'PAX5', 'PD-1', 'CD45RA'], ['DAPI', 'Helios', 'CD10', 'TCF7/TCF1', 'PD-L1', 'BCL-6', 'FOXP3', 'CD69', 'Perforin', 'CD19', 'LAG3', 'CD21', 'CD62L', 'c-myc', 'CD138', 'CD15', 'BCL-2', 'CD56', 'IKZF3', 'CD25', 'NOXA', 'Tim3', 'Serpin B9', 'Podoplanin', 'CD38', 'SPARC', 'ICOS', 'CXCR5', 'CD163', 'FADD', 'p53', 'Collagen IV', 'CD4', 'CD7', 'Kappa', 'CD20', 'CD34', 'PAX5', 'PD-1', 'CD45RA', 'CD11b', 'Lambda', 'CD57', 'CD11c', 'CD90', 'HLA DR', 'CD68', 'CD31', 'CD45', 'CD3'], ['DAPI', 'Helios', 'CD10', 'TCF7/TCF1', 'PD-L1', 'BCL-6', 'FOXP3', 'CD69', 'Perforin', 'CD19', 'LAG3', 'CD21', 'CD62L', 'c-myc', 'CD138', 'CD15', 'BCL-2', 'CD56', 'IKZF3', 'CD25', 'NOXA', 'Tim3', 'Serpin B9', 'Podoplanin', 'CD38', 'SPARC', 'ICOS', 'CXCR5', 'CD163', 'FADD', 'p53', 'Collagen IV', 'CD4', 'CD7', 'Kappa', 'CD20', 'CD34', 'PAX5', 'PD-1', 'CD45RA', 'CD11b', 'Lambda', 'CD57', 'CD11c', 'CD90', 'HLA DR', 'CD68', 'CD31', 'CD45', 'CD3', 'Cytokeratin', 'CD45RO', 'CD8', 'Granzyme B', 'CD79a', 'Ki-67']]\n"
     ]
    }
   ],
   "source": [
    "print(channel_options_numeric)\n",
    "print(channel_options_string)"
   ]
  },
  {
   "cell_type": "code",
   "execution_count": 3,
   "id": "ab88c6ed-bea0-48f3-b1b6-232cd768f690",
   "metadata": {
    "tags": []
   },
   "outputs": [
    {
     "data": {
      "application/vnd.jupyter.widget-view+json": {
       "model_id": "c17f346b853149d89f9526145a196111",
       "version_major": 2,
       "version_minor": 0
      },
      "text/plain": [
       "  0%|          | 0/40 [00:00<?, ?it/s]"
      ]
     },
     "metadata": {},
     "output_type": "display_data"
    },
    {
     "data": {
      "application/vnd.jupyter.widget-view+json": {
       "model_id": "6c757dcf8e8f4bfeb292a1aae1ac7515",
       "version_major": 2,
       "version_minor": 0
      },
      "text/plain": [
       "  0%|          | 0/8 [00:00<?, ?it/s]"
      ]
     },
     "metadata": {},
     "output_type": "display_data"
    },
    {
     "data": {
      "application/vnd.jupyter.widget-view+json": {
       "model_id": "b8524273731a4936b5b42f8cb465d568",
       "version_major": 2,
       "version_minor": 0
      },
      "text/plain": [
       "  0%|          | 0/8 [00:00<?, ?it/s]"
      ]
     },
     "metadata": {},
     "output_type": "display_data"
    },
    {
     "data": {
      "application/vnd.jupyter.widget-view+json": {
       "model_id": "7c9bc36fd7fb425e92d9f83e12a57f90",
       "version_major": 2,
       "version_minor": 0
      },
      "text/plain": [
       "  0%|          | 0/8 [00:00<?, ?it/s]"
      ]
     },
     "metadata": {},
     "output_type": "display_data"
    },
    {
     "data": {
      "application/vnd.jupyter.widget-view+json": {
       "model_id": "2ed2cea1e98e40b391c52094a66a17df",
       "version_major": 2,
       "version_minor": 0
      },
      "text/plain": [
       "  0%|          | 0/8 [00:00<?, ?it/s]"
      ]
     },
     "metadata": {},
     "output_type": "display_data"
    },
    {
     "data": {
      "application/vnd.jupyter.widget-view+json": {
       "model_id": "4e76494c4cd54625b4432382ba777781",
       "version_major": 2,
       "version_minor": 0
      },
      "text/plain": [
       "  0%|          | 0/8 [00:00<?, ?it/s]"
      ]
     },
     "metadata": {},
     "output_type": "display_data"
    },
    {
     "data": {
      "application/vnd.jupyter.widget-view+json": {
       "model_id": "7c05426c175148acb9e8d6fb904fb6fb",
       "version_major": 2,
       "version_minor": 0
      },
      "text/plain": [
       "  0%|          | 0/8 [00:00<?, ?it/s]"
      ]
     },
     "metadata": {},
     "output_type": "display_data"
    },
    {
     "data": {
      "application/vnd.jupyter.widget-view+json": {
       "model_id": "83f4bfc751ef4c3ab4922e53825634d6",
       "version_major": 2,
       "version_minor": 0
      },
      "text/plain": [
       "  0%|          | 0/8 [00:00<?, ?it/s]"
      ]
     },
     "metadata": {},
     "output_type": "display_data"
    },
    {
     "data": {
      "application/vnd.jupyter.widget-view+json": {
       "model_id": "d85d13ce496944fcb50d9d6a2f4fd4d1",
       "version_major": 2,
       "version_minor": 0
      },
      "text/plain": [
       "  0%|          | 0/8 [00:00<?, ?it/s]"
      ]
     },
     "metadata": {},
     "output_type": "display_data"
    },
    {
     "data": {
      "application/vnd.jupyter.widget-view+json": {
       "model_id": "2036073a06a54d7aa7b67a032e2ec7cb",
       "version_major": 2,
       "version_minor": 0
      },
      "text/plain": [
       "  0%|          | 0/8 [00:00<?, ?it/s]"
      ]
     },
     "metadata": {},
     "output_type": "display_data"
    },
    {
     "data": {
      "application/vnd.jupyter.widget-view+json": {
       "model_id": "3e6c2d08bad848bc93ea3da6fc523737",
       "version_major": 2,
       "version_minor": 0
      },
      "text/plain": [
       "  0%|          | 0/8 [00:00<?, ?it/s]"
      ]
     },
     "metadata": {},
     "output_type": "display_data"
    },
    {
     "data": {
      "application/vnd.jupyter.widget-view+json": {
       "model_id": "cb43e0c988404138aacfc182fb3f8e7a",
       "version_major": 2,
       "version_minor": 0
      },
      "text/plain": [
       "  0%|          | 0/8 [00:00<?, ?it/s]"
      ]
     },
     "metadata": {},
     "output_type": "display_data"
    },
    {
     "data": {
      "application/vnd.jupyter.widget-view+json": {
       "model_id": "322ac157982946ff86955ae51effe70c",
       "version_major": 2,
       "version_minor": 0
      },
      "text/plain": [
       "  0%|          | 0/8 [00:00<?, ?it/s]"
      ]
     },
     "metadata": {},
     "output_type": "display_data"
    },
    {
     "data": {
      "application/vnd.jupyter.widget-view+json": {
       "model_id": "c7f0e44834a744448859e57ac527fb4b",
       "version_major": 2,
       "version_minor": 0
      },
      "text/plain": [
       "  0%|          | 0/8 [00:00<?, ?it/s]"
      ]
     },
     "metadata": {},
     "output_type": "display_data"
    },
    {
     "data": {
      "application/vnd.jupyter.widget-view+json": {
       "model_id": "c62b2afb52c547b39a0ce115fe09effc",
       "version_major": 2,
       "version_minor": 0
      },
      "text/plain": [
       "  0%|          | 0/8 [00:00<?, ?it/s]"
      ]
     },
     "metadata": {},
     "output_type": "display_data"
    },
    {
     "data": {
      "application/vnd.jupyter.widget-view+json": {
       "model_id": "3de67e87d3e14a1297559498b1a47297",
       "version_major": 2,
       "version_minor": 0
      },
      "text/plain": [
       "  0%|          | 0/8 [00:00<?, ?it/s]"
      ]
     },
     "metadata": {},
     "output_type": "display_data"
    },
    {
     "data": {
      "application/vnd.jupyter.widget-view+json": {
       "model_id": "f316cdb4aaa04ecc96a58b1d0652c367",
       "version_major": 2,
       "version_minor": 0
      },
      "text/plain": [
       "  0%|          | 0/8 [00:00<?, ?it/s]"
      ]
     },
     "metadata": {},
     "output_type": "display_data"
    },
    {
     "data": {
      "application/vnd.jupyter.widget-view+json": {
       "model_id": "b3b26a51ae844ec69890df767aa950a4",
       "version_major": 2,
       "version_minor": 0
      },
      "text/plain": [
       "  0%|          | 0/8 [00:00<?, ?it/s]"
      ]
     },
     "metadata": {},
     "output_type": "display_data"
    },
    {
     "data": {
      "application/vnd.jupyter.widget-view+json": {
       "model_id": "ad1db75727824bdfb4f1db9844f59d51",
       "version_major": 2,
       "version_minor": 0
      },
      "text/plain": [
       "  0%|          | 0/8 [00:00<?, ?it/s]"
      ]
     },
     "metadata": {},
     "output_type": "display_data"
    },
    {
     "data": {
      "application/vnd.jupyter.widget-view+json": {
       "model_id": "3ed151f1548340dda609dd4b158b062a",
       "version_major": 2,
       "version_minor": 0
      },
      "text/plain": [
       "  0%|          | 0/8 [00:00<?, ?it/s]"
      ]
     },
     "metadata": {},
     "output_type": "display_data"
    },
    {
     "data": {
      "application/vnd.jupyter.widget-view+json": {
       "model_id": "d91dc678a33d4278a52c7a88b8ba6b17",
       "version_major": 2,
       "version_minor": 0
      },
      "text/plain": [
       "  0%|          | 0/8 [00:00<?, ?it/s]"
      ]
     },
     "metadata": {},
     "output_type": "display_data"
    },
    {
     "data": {
      "application/vnd.jupyter.widget-view+json": {
       "model_id": "f7f5fdf20f964031b6323349e84778e6",
       "version_major": 2,
       "version_minor": 0
      },
      "text/plain": [
       "  0%|          | 0/8 [00:00<?, ?it/s]"
      ]
     },
     "metadata": {},
     "output_type": "display_data"
    },
    {
     "data": {
      "application/vnd.jupyter.widget-view+json": {
       "model_id": "de64b702139c432d89fabcd567680c08",
       "version_major": 2,
       "version_minor": 0
      },
      "text/plain": [
       "  0%|          | 0/8 [00:00<?, ?it/s]"
      ]
     },
     "metadata": {},
     "output_type": "display_data"
    },
    {
     "data": {
      "application/vnd.jupyter.widget-view+json": {
       "model_id": "aba1d878d35d443c9457f58aad4d638c",
       "version_major": 2,
       "version_minor": 0
      },
      "text/plain": [
       "  0%|          | 0/8 [00:00<?, ?it/s]"
      ]
     },
     "metadata": {},
     "output_type": "display_data"
    },
    {
     "data": {
      "application/vnd.jupyter.widget-view+json": {
       "model_id": "c0f3836fe69442439aebb7a9b3d0b95c",
       "version_major": 2,
       "version_minor": 0
      },
      "text/plain": [
       "  0%|          | 0/8 [00:00<?, ?it/s]"
      ]
     },
     "metadata": {},
     "output_type": "display_data"
    },
    {
     "data": {
      "application/vnd.jupyter.widget-view+json": {
       "model_id": "e7930251be1b4d899f5c721c4a8bef5c",
       "version_major": 2,
       "version_minor": 0
      },
      "text/plain": [
       "  0%|          | 0/8 [00:00<?, ?it/s]"
      ]
     },
     "metadata": {},
     "output_type": "display_data"
    },
    {
     "data": {
      "application/vnd.jupyter.widget-view+json": {
       "model_id": "db2f8e4eb3e64d229ff9aa9d5ab28d70",
       "version_major": 2,
       "version_minor": 0
      },
      "text/plain": [
       "  0%|          | 0/8 [00:00<?, ?it/s]"
      ]
     },
     "metadata": {},
     "output_type": "display_data"
    },
    {
     "data": {
      "application/vnd.jupyter.widget-view+json": {
       "model_id": "47f61236807247ed80b0fbf8d484d2fe",
       "version_major": 2,
       "version_minor": 0
      },
      "text/plain": [
       "  0%|          | 0/8 [00:00<?, ?it/s]"
      ]
     },
     "metadata": {},
     "output_type": "display_data"
    },
    {
     "data": {
      "application/vnd.jupyter.widget-view+json": {
       "model_id": "722f5607e3614fcb9b298bb4c95daa0a",
       "version_major": 2,
       "version_minor": 0
      },
      "text/plain": [
       "  0%|          | 0/8 [00:00<?, ?it/s]"
      ]
     },
     "metadata": {},
     "output_type": "display_data"
    },
    {
     "data": {
      "application/vnd.jupyter.widget-view+json": {
       "model_id": "24afa248d2ce4a3aaa74d3c1fbb25954",
       "version_major": 2,
       "version_minor": 0
      },
      "text/plain": [
       "  0%|          | 0/8 [00:00<?, ?it/s]"
      ]
     },
     "metadata": {},
     "output_type": "display_data"
    },
    {
     "data": {
      "application/vnd.jupyter.widget-view+json": {
       "model_id": "f8bf1a33b3884a5981c3dd885be28bea",
       "version_major": 2,
       "version_minor": 0
      },
      "text/plain": [
       "  0%|          | 0/8 [00:00<?, ?it/s]"
      ]
     },
     "metadata": {},
     "output_type": "display_data"
    },
    {
     "data": {
      "application/vnd.jupyter.widget-view+json": {
       "model_id": "560bc8f13cfd458087290b275b15c7db",
       "version_major": 2,
       "version_minor": 0
      },
      "text/plain": [
       "  0%|          | 0/8 [00:00<?, ?it/s]"
      ]
     },
     "metadata": {},
     "output_type": "display_data"
    },
    {
     "data": {
      "application/vnd.jupyter.widget-view+json": {
       "model_id": "fe1d83615ad34e27880db0e4785444a7",
       "version_major": 2,
       "version_minor": 0
      },
      "text/plain": [
       "  0%|          | 0/8 [00:00<?, ?it/s]"
      ]
     },
     "metadata": {},
     "output_type": "display_data"
    },
    {
     "data": {
      "application/vnd.jupyter.widget-view+json": {
       "model_id": "d53d37c5023e40bcbf8782559dd58079",
       "version_major": 2,
       "version_minor": 0
      },
      "text/plain": [
       "  0%|          | 0/8 [00:00<?, ?it/s]"
      ]
     },
     "metadata": {},
     "output_type": "display_data"
    },
    {
     "data": {
      "application/vnd.jupyter.widget-view+json": {
       "model_id": "20a0231252db4874a911d13f0befc0d6",
       "version_major": 2,
       "version_minor": 0
      },
      "text/plain": [
       "  0%|          | 0/8 [00:00<?, ?it/s]"
      ]
     },
     "metadata": {},
     "output_type": "display_data"
    },
    {
     "data": {
      "application/vnd.jupyter.widget-view+json": {
       "model_id": "ed94a4518bd740e0934671b496c8b6ae",
       "version_major": 2,
       "version_minor": 0
      },
      "text/plain": [
       "  0%|          | 0/8 [00:00<?, ?it/s]"
      ]
     },
     "metadata": {},
     "output_type": "display_data"
    },
    {
     "data": {
      "application/vnd.jupyter.widget-view+json": {
       "model_id": "b41f7d9958924dbd9d49b360eb05c2ea",
       "version_major": 2,
       "version_minor": 0
      },
      "text/plain": [
       "  0%|          | 0/8 [00:00<?, ?it/s]"
      ]
     },
     "metadata": {},
     "output_type": "display_data"
    },
    {
     "data": {
      "application/vnd.jupyter.widget-view+json": {
       "model_id": "6ef829b7f4d54bba9a1c27ca64e02c61",
       "version_major": 2,
       "version_minor": 0
      },
      "text/plain": [
       "  0%|          | 0/8 [00:00<?, ?it/s]"
      ]
     },
     "metadata": {},
     "output_type": "display_data"
    },
    {
     "data": {
      "application/vnd.jupyter.widget-view+json": {
       "model_id": "1db7da148fba4e3b90cf7464e490d4e2",
       "version_major": 2,
       "version_minor": 0
      },
      "text/plain": [
       "  0%|          | 0/8 [00:00<?, ?it/s]"
      ]
     },
     "metadata": {},
     "output_type": "display_data"
    },
    {
     "data": {
      "application/vnd.jupyter.widget-view+json": {
       "model_id": "dbced4d12068446db050530a9fc3f4b4",
       "version_major": 2,
       "version_minor": 0
      },
      "text/plain": [
       "  0%|          | 0/8 [00:00<?, ?it/s]"
      ]
     },
     "metadata": {},
     "output_type": "display_data"
    },
    {
     "data": {
      "application/vnd.jupyter.widget-view+json": {
       "model_id": "8ebe8c7493b5469abf925883e10ade99",
       "version_major": 2,
       "version_minor": 0
      },
      "text/plain": [
       "  0%|          | 0/8 [00:00<?, ?it/s]"
      ]
     },
     "metadata": {},
     "output_type": "display_data"
    }
   ],
   "source": [
    "# TIFF full-then-subset\n",
    "for tiff_file in tqdm(glob(os.path.join(\"selected_tiffs\", \"*.tiff\"))[:num_samples]):  # always read full TIFFs\n",
    "    for ch in tqdm(channel_options_numeric):\n",
    "        for subset in [\"full\", 500, 1000, 2000]:\n",
    "            spatial = None if subset == \"full\" else subset\n",
    "            runtime, mem = benchmark_read_tiff(tiff_file, channels=ch, spatial_subset=spatial)\n",
    "            results.append({\n",
    "                \"format\": \"tiff\",\n",
    "                \"method\": \"full_then_subset\",\n",
    "                \"subset\": subset if subset != \"full\" else 3000,\n",
    "                \"channels\": ch if ch is not None else \"all\",\n",
    "                \"runtime_s\": runtime,\n",
    "                \"memory_mb\": mem,\n",
    "            })\n",
    "            gc.collect()"
   ]
  },
  {
   "cell_type": "code",
   "execution_count": 4,
   "id": "4cf82437-4689-4e33-8797-89efaaaf75f1",
   "metadata": {
    "tags": []
   },
   "outputs": [
    {
     "data": {
      "application/vnd.jupyter.widget-view+json": {
       "model_id": "4d73226092d14c08be9f9ee6b0a0d387",
       "version_major": 2,
       "version_minor": 0
      },
      "text/plain": [
       "  0%|          | 0/40 [00:00<?, ?it/s]"
      ]
     },
     "metadata": {},
     "output_type": "display_data"
    },
    {
     "data": {
      "application/vnd.jupyter.widget-view+json": {
       "model_id": "3d41b35594fa403288853f2142be9042",
       "version_major": 2,
       "version_minor": 0
      },
      "text/plain": [
       "  0%|          | 0/8 [00:00<?, ?it/s]"
      ]
     },
     "metadata": {},
     "output_type": "display_data"
    },
    {
     "data": {
      "application/vnd.jupyter.widget-view+json": {
       "model_id": "f68fcc18ad5d46388f3500952a3eb3ed",
       "version_major": 2,
       "version_minor": 0
      },
      "text/plain": [
       "  0%|          | 0/8 [00:00<?, ?it/s]"
      ]
     },
     "metadata": {},
     "output_type": "display_data"
    },
    {
     "data": {
      "application/vnd.jupyter.widget-view+json": {
       "model_id": "fa0f904a36b14bd383d1822baee9a6b9",
       "version_major": 2,
       "version_minor": 0
      },
      "text/plain": [
       "  0%|          | 0/8 [00:00<?, ?it/s]"
      ]
     },
     "metadata": {},
     "output_type": "display_data"
    },
    {
     "data": {
      "application/vnd.jupyter.widget-view+json": {
       "model_id": "9b16cd30590c4026a42d78d70c845335",
       "version_major": 2,
       "version_minor": 0
      },
      "text/plain": [
       "  0%|          | 0/8 [00:00<?, ?it/s]"
      ]
     },
     "metadata": {},
     "output_type": "display_data"
    },
    {
     "data": {
      "application/vnd.jupyter.widget-view+json": {
       "model_id": "eee7be9a79064137870e1b260d3d2158",
       "version_major": 2,
       "version_minor": 0
      },
      "text/plain": [
       "  0%|          | 0/8 [00:00<?, ?it/s]"
      ]
     },
     "metadata": {},
     "output_type": "display_data"
    },
    {
     "data": {
      "application/vnd.jupyter.widget-view+json": {
       "model_id": "1d656e55252f451084d630d025e86bfe",
       "version_major": 2,
       "version_minor": 0
      },
      "text/plain": [
       "  0%|          | 0/8 [00:00<?, ?it/s]"
      ]
     },
     "metadata": {},
     "output_type": "display_data"
    },
    {
     "data": {
      "application/vnd.jupyter.widget-view+json": {
       "model_id": "fe1ea647451b4419aeec6a9a58312c82",
       "version_major": 2,
       "version_minor": 0
      },
      "text/plain": [
       "  0%|          | 0/8 [00:00<?, ?it/s]"
      ]
     },
     "metadata": {},
     "output_type": "display_data"
    },
    {
     "data": {
      "application/vnd.jupyter.widget-view+json": {
       "model_id": "3c632c23739a4152b84b8e0f9173c911",
       "version_major": 2,
       "version_minor": 0
      },
      "text/plain": [
       "  0%|          | 0/8 [00:00<?, ?it/s]"
      ]
     },
     "metadata": {},
     "output_type": "display_data"
    },
    {
     "data": {
      "application/vnd.jupyter.widget-view+json": {
       "model_id": "6b530ff343d54124a6399864ac45ad2a",
       "version_major": 2,
       "version_minor": 0
      },
      "text/plain": [
       "  0%|          | 0/8 [00:00<?, ?it/s]"
      ]
     },
     "metadata": {},
     "output_type": "display_data"
    },
    {
     "data": {
      "application/vnd.jupyter.widget-view+json": {
       "model_id": "d07385535e594532b9ba4e3ca9f82525",
       "version_major": 2,
       "version_minor": 0
      },
      "text/plain": [
       "  0%|          | 0/8 [00:00<?, ?it/s]"
      ]
     },
     "metadata": {},
     "output_type": "display_data"
    },
    {
     "data": {
      "application/vnd.jupyter.widget-view+json": {
       "model_id": "de0fa06245ac48a1b5a81315487ca2ca",
       "version_major": 2,
       "version_minor": 0
      },
      "text/plain": [
       "  0%|          | 0/8 [00:00<?, ?it/s]"
      ]
     },
     "metadata": {},
     "output_type": "display_data"
    },
    {
     "data": {
      "application/vnd.jupyter.widget-view+json": {
       "model_id": "05ff41f973e44a66b35296e90f9661c1",
       "version_major": 2,
       "version_minor": 0
      },
      "text/plain": [
       "  0%|          | 0/8 [00:00<?, ?it/s]"
      ]
     },
     "metadata": {},
     "output_type": "display_data"
    },
    {
     "data": {
      "application/vnd.jupyter.widget-view+json": {
       "model_id": "4f74613873cd49eabde89beba2a660dc",
       "version_major": 2,
       "version_minor": 0
      },
      "text/plain": [
       "  0%|          | 0/8 [00:00<?, ?it/s]"
      ]
     },
     "metadata": {},
     "output_type": "display_data"
    },
    {
     "data": {
      "application/vnd.jupyter.widget-view+json": {
       "model_id": "30bd52856d5d44b39dd32b19ac98dca0",
       "version_major": 2,
       "version_minor": 0
      },
      "text/plain": [
       "  0%|          | 0/8 [00:00<?, ?it/s]"
      ]
     },
     "metadata": {},
     "output_type": "display_data"
    },
    {
     "data": {
      "application/vnd.jupyter.widget-view+json": {
       "model_id": "91e1800fad504508a5df83cd0fa0eb8c",
       "version_major": 2,
       "version_minor": 0
      },
      "text/plain": [
       "  0%|          | 0/8 [00:00<?, ?it/s]"
      ]
     },
     "metadata": {},
     "output_type": "display_data"
    },
    {
     "data": {
      "application/vnd.jupyter.widget-view+json": {
       "model_id": "90af8c78e26f492d8f8a73201474a00b",
       "version_major": 2,
       "version_minor": 0
      },
      "text/plain": [
       "  0%|          | 0/8 [00:00<?, ?it/s]"
      ]
     },
     "metadata": {},
     "output_type": "display_data"
    },
    {
     "data": {
      "application/vnd.jupyter.widget-view+json": {
       "model_id": "37835b56491b40ac912297cc24778492",
       "version_major": 2,
       "version_minor": 0
      },
      "text/plain": [
       "  0%|          | 0/8 [00:00<?, ?it/s]"
      ]
     },
     "metadata": {},
     "output_type": "display_data"
    },
    {
     "data": {
      "application/vnd.jupyter.widget-view+json": {
       "model_id": "d39ab9cdf5384ab6aac0d84c6505e10c",
       "version_major": 2,
       "version_minor": 0
      },
      "text/plain": [
       "  0%|          | 0/8 [00:00<?, ?it/s]"
      ]
     },
     "metadata": {},
     "output_type": "display_data"
    },
    {
     "data": {
      "application/vnd.jupyter.widget-view+json": {
       "model_id": "26a9595b209b489298d5b07bd4e1fdee",
       "version_major": 2,
       "version_minor": 0
      },
      "text/plain": [
       "  0%|          | 0/8 [00:00<?, ?it/s]"
      ]
     },
     "metadata": {},
     "output_type": "display_data"
    },
    {
     "data": {
      "application/vnd.jupyter.widget-view+json": {
       "model_id": "fe0a7e8a442f480290c1349177f8c1ba",
       "version_major": 2,
       "version_minor": 0
      },
      "text/plain": [
       "  0%|          | 0/8 [00:00<?, ?it/s]"
      ]
     },
     "metadata": {},
     "output_type": "display_data"
    },
    {
     "data": {
      "application/vnd.jupyter.widget-view+json": {
       "model_id": "03a4d79fda4d4ad29316680b9602c004",
       "version_major": 2,
       "version_minor": 0
      },
      "text/plain": [
       "  0%|          | 0/8 [00:00<?, ?it/s]"
      ]
     },
     "metadata": {},
     "output_type": "display_data"
    },
    {
     "data": {
      "application/vnd.jupyter.widget-view+json": {
       "model_id": "d097be449b184bb89957a7eb3e46daad",
       "version_major": 2,
       "version_minor": 0
      },
      "text/plain": [
       "  0%|          | 0/8 [00:00<?, ?it/s]"
      ]
     },
     "metadata": {},
     "output_type": "display_data"
    },
    {
     "data": {
      "application/vnd.jupyter.widget-view+json": {
       "model_id": "b17cd7cbb55540bdb7d0765d0d2ddba2",
       "version_major": 2,
       "version_minor": 0
      },
      "text/plain": [
       "  0%|          | 0/8 [00:00<?, ?it/s]"
      ]
     },
     "metadata": {},
     "output_type": "display_data"
    },
    {
     "data": {
      "application/vnd.jupyter.widget-view+json": {
       "model_id": "57d056cbca69409b8569f8ad1872da84",
       "version_major": 2,
       "version_minor": 0
      },
      "text/plain": [
       "  0%|          | 0/8 [00:00<?, ?it/s]"
      ]
     },
     "metadata": {},
     "output_type": "display_data"
    },
    {
     "data": {
      "application/vnd.jupyter.widget-view+json": {
       "model_id": "b60775bb497449cd9c3548058c3fbf2d",
       "version_major": 2,
       "version_minor": 0
      },
      "text/plain": [
       "  0%|          | 0/8 [00:00<?, ?it/s]"
      ]
     },
     "metadata": {},
     "output_type": "display_data"
    },
    {
     "data": {
      "application/vnd.jupyter.widget-view+json": {
       "model_id": "b8df41cc84e94c2ca370e9dd55a37b27",
       "version_major": 2,
       "version_minor": 0
      },
      "text/plain": [
       "  0%|          | 0/8 [00:00<?, ?it/s]"
      ]
     },
     "metadata": {},
     "output_type": "display_data"
    },
    {
     "data": {
      "application/vnd.jupyter.widget-view+json": {
       "model_id": "5cda1fe5a5124e47a52284aba4220797",
       "version_major": 2,
       "version_minor": 0
      },
      "text/plain": [
       "  0%|          | 0/8 [00:00<?, ?it/s]"
      ]
     },
     "metadata": {},
     "output_type": "display_data"
    },
    {
     "data": {
      "application/vnd.jupyter.widget-view+json": {
       "model_id": "0911055188cc4622afbef2ad2475baa4",
       "version_major": 2,
       "version_minor": 0
      },
      "text/plain": [
       "  0%|          | 0/8 [00:00<?, ?it/s]"
      ]
     },
     "metadata": {},
     "output_type": "display_data"
    },
    {
     "data": {
      "application/vnd.jupyter.widget-view+json": {
       "model_id": "a63c658d1bfb4705a54e618062c60422",
       "version_major": 2,
       "version_minor": 0
      },
      "text/plain": [
       "  0%|          | 0/8 [00:00<?, ?it/s]"
      ]
     },
     "metadata": {},
     "output_type": "display_data"
    },
    {
     "data": {
      "application/vnd.jupyter.widget-view+json": {
       "model_id": "7c3b12c1ef034778a2548e4eee159fae",
       "version_major": 2,
       "version_minor": 0
      },
      "text/plain": [
       "  0%|          | 0/8 [00:00<?, ?it/s]"
      ]
     },
     "metadata": {},
     "output_type": "display_data"
    },
    {
     "data": {
      "application/vnd.jupyter.widget-view+json": {
       "model_id": "973eae27a5f2495283dcc4544a9b96f3",
       "version_major": 2,
       "version_minor": 0
      },
      "text/plain": [
       "  0%|          | 0/8 [00:00<?, ?it/s]"
      ]
     },
     "metadata": {},
     "output_type": "display_data"
    },
    {
     "data": {
      "application/vnd.jupyter.widget-view+json": {
       "model_id": "2e64280a92984aaabc705512a8aae4c0",
       "version_major": 2,
       "version_minor": 0
      },
      "text/plain": [
       "  0%|          | 0/8 [00:00<?, ?it/s]"
      ]
     },
     "metadata": {},
     "output_type": "display_data"
    },
    {
     "data": {
      "application/vnd.jupyter.widget-view+json": {
       "model_id": "686fe8782db24a70806c22751266be0d",
       "version_major": 2,
       "version_minor": 0
      },
      "text/plain": [
       "  0%|          | 0/8 [00:00<?, ?it/s]"
      ]
     },
     "metadata": {},
     "output_type": "display_data"
    },
    {
     "data": {
      "application/vnd.jupyter.widget-view+json": {
       "model_id": "cb8bdcb6bfa541ac8d6f69008c4a88bc",
       "version_major": 2,
       "version_minor": 0
      },
      "text/plain": [
       "  0%|          | 0/8 [00:00<?, ?it/s]"
      ]
     },
     "metadata": {},
     "output_type": "display_data"
    },
    {
     "data": {
      "application/vnd.jupyter.widget-view+json": {
       "model_id": "80b93a5bfb3b4c61bab8e4eed31410eb",
       "version_major": 2,
       "version_minor": 0
      },
      "text/plain": [
       "  0%|          | 0/8 [00:00<?, ?it/s]"
      ]
     },
     "metadata": {},
     "output_type": "display_data"
    },
    {
     "data": {
      "application/vnd.jupyter.widget-view+json": {
       "model_id": "8b3b30775a4b474e83799ada057969fb",
       "version_major": 2,
       "version_minor": 0
      },
      "text/plain": [
       "  0%|          | 0/8 [00:00<?, ?it/s]"
      ]
     },
     "metadata": {},
     "output_type": "display_data"
    },
    {
     "data": {
      "application/vnd.jupyter.widget-view+json": {
       "model_id": "ead30f91a21a4836920d6b6be36f8b09",
       "version_major": 2,
       "version_minor": 0
      },
      "text/plain": [
       "  0%|          | 0/8 [00:00<?, ?it/s]"
      ]
     },
     "metadata": {},
     "output_type": "display_data"
    },
    {
     "data": {
      "application/vnd.jupyter.widget-view+json": {
       "model_id": "c26b3501e71d4e819a1f5ec7f8201a13",
       "version_major": 2,
       "version_minor": 0
      },
      "text/plain": [
       "  0%|          | 0/8 [00:00<?, ?it/s]"
      ]
     },
     "metadata": {},
     "output_type": "display_data"
    },
    {
     "data": {
      "application/vnd.jupyter.widget-view+json": {
       "model_id": "564ed37df3354d0f90962630dc1779e6",
       "version_major": 2,
       "version_minor": 0
      },
      "text/plain": [
       "  0%|          | 0/8 [00:00<?, ?it/s]"
      ]
     },
     "metadata": {},
     "output_type": "display_data"
    },
    {
     "data": {
      "application/vnd.jupyter.widget-view+json": {
       "model_id": "b2b4812881e345d9b9904226a5453569",
       "version_major": 2,
       "version_minor": 0
      },
      "text/plain": [
       "  0%|          | 0/8 [00:00<?, ?it/s]"
      ]
     },
     "metadata": {},
     "output_type": "display_data"
    }
   ],
   "source": [
    "for zarr_file in tqdm(glob(os.path.join(\"selected_zarrs\", \"*.zarr\"))[:num_samples]):\n",
    "    for ch in tqdm(channel_options_string):\n",
    "        for subset in [\"full\", 500, 1000, 2000]:\n",
    "            spatial = None if subset == \"full\" else subset\n",
    "            runtime, mem = benchmark_read_zarr(zarr_file, channels=ch, spatial_subset=spatial)\n",
    "            results.append({\n",
    "                \"format\": \"zarr_compute\",\n",
    "                \"method\": \"compute\",\n",
    "                \"subset\": subset if subset != \"full\" else 3000,\n",
    "                \"channels\": len(ch) if ch is not None else \"all\",\n",
    "                \"runtime_s\": runtime,\n",
    "                \"memory_mb\": mem,\n",
    "            })\n",
    "            gc.collect()"
   ]
  },
  {
   "cell_type": "code",
   "execution_count": 5,
   "id": "106612e3-4bea-4689-a26e-9406b9c686c8",
   "metadata": {},
   "outputs": [
    {
     "data": {
      "application/vnd.jupyter.widget-view+json": {
       "model_id": "3fa1124cd896406788eb88189ec1976a",
       "version_major": 2,
       "version_minor": 0
      },
      "text/plain": [
       "  0%|          | 0/40 [00:00<?, ?it/s]"
      ]
     },
     "metadata": {},
     "output_type": "display_data"
    },
    {
     "data": {
      "application/vnd.jupyter.widget-view+json": {
       "model_id": "2c6fbda0a25e4a9a8f44469820abfe60",
       "version_major": 2,
       "version_minor": 0
      },
      "text/plain": [
       "  0%|          | 0/8 [00:00<?, ?it/s]"
      ]
     },
     "metadata": {},
     "output_type": "display_data"
    },
    {
     "data": {
      "application/vnd.jupyter.widget-view+json": {
       "model_id": "d5fbc9fbf5774dc1998ffee4dc377ae5",
       "version_major": 2,
       "version_minor": 0
      },
      "text/plain": [
       "  0%|          | 0/8 [00:00<?, ?it/s]"
      ]
     },
     "metadata": {},
     "output_type": "display_data"
    },
    {
     "data": {
      "application/vnd.jupyter.widget-view+json": {
       "model_id": "ad1b9fe76ebe4284a41c9723717d63a5",
       "version_major": 2,
       "version_minor": 0
      },
      "text/plain": [
       "  0%|          | 0/8 [00:00<?, ?it/s]"
      ]
     },
     "metadata": {},
     "output_type": "display_data"
    },
    {
     "data": {
      "application/vnd.jupyter.widget-view+json": {
       "model_id": "04cecfc4914f4abb8cf9e9cb9d679a26",
       "version_major": 2,
       "version_minor": 0
      },
      "text/plain": [
       "  0%|          | 0/8 [00:00<?, ?it/s]"
      ]
     },
     "metadata": {},
     "output_type": "display_data"
    },
    {
     "data": {
      "application/vnd.jupyter.widget-view+json": {
       "model_id": "5c239908a8834a78807def08527874fd",
       "version_major": 2,
       "version_minor": 0
      },
      "text/plain": [
       "  0%|          | 0/8 [00:00<?, ?it/s]"
      ]
     },
     "metadata": {},
     "output_type": "display_data"
    },
    {
     "data": {
      "application/vnd.jupyter.widget-view+json": {
       "model_id": "e95a9a243b98480baa26661c7dd87c59",
       "version_major": 2,
       "version_minor": 0
      },
      "text/plain": [
       "  0%|          | 0/8 [00:00<?, ?it/s]"
      ]
     },
     "metadata": {},
     "output_type": "display_data"
    },
    {
     "data": {
      "application/vnd.jupyter.widget-view+json": {
       "model_id": "17d9ceb86ea14ed7a0a2992e835bbc55",
       "version_major": 2,
       "version_minor": 0
      },
      "text/plain": [
       "  0%|          | 0/8 [00:00<?, ?it/s]"
      ]
     },
     "metadata": {},
     "output_type": "display_data"
    },
    {
     "data": {
      "application/vnd.jupyter.widget-view+json": {
       "model_id": "306c4c1a1b1a4dcdb47e8b28bfc43c93",
       "version_major": 2,
       "version_minor": 0
      },
      "text/plain": [
       "  0%|          | 0/8 [00:00<?, ?it/s]"
      ]
     },
     "metadata": {},
     "output_type": "display_data"
    },
    {
     "data": {
      "application/vnd.jupyter.widget-view+json": {
       "model_id": "69600787c06141d693fb0b16863d1f1c",
       "version_major": 2,
       "version_minor": 0
      },
      "text/plain": [
       "  0%|          | 0/8 [00:00<?, ?it/s]"
      ]
     },
     "metadata": {},
     "output_type": "display_data"
    },
    {
     "data": {
      "application/vnd.jupyter.widget-view+json": {
       "model_id": "f834762c2a5b4e5a9feed1ff9d4895f7",
       "version_major": 2,
       "version_minor": 0
      },
      "text/plain": [
       "  0%|          | 0/8 [00:00<?, ?it/s]"
      ]
     },
     "metadata": {},
     "output_type": "display_data"
    },
    {
     "data": {
      "application/vnd.jupyter.widget-view+json": {
       "model_id": "63870893f7db40768c5656db2a2dac17",
       "version_major": 2,
       "version_minor": 0
      },
      "text/plain": [
       "  0%|          | 0/8 [00:00<?, ?it/s]"
      ]
     },
     "metadata": {},
     "output_type": "display_data"
    },
    {
     "data": {
      "application/vnd.jupyter.widget-view+json": {
       "model_id": "f6bf76caf4904220988f0e20af90e603",
       "version_major": 2,
       "version_minor": 0
      },
      "text/plain": [
       "  0%|          | 0/8 [00:00<?, ?it/s]"
      ]
     },
     "metadata": {},
     "output_type": "display_data"
    },
    {
     "data": {
      "application/vnd.jupyter.widget-view+json": {
       "model_id": "51cf3aa1a40842ffacc75b9ff20ea86a",
       "version_major": 2,
       "version_minor": 0
      },
      "text/plain": [
       "  0%|          | 0/8 [00:00<?, ?it/s]"
      ]
     },
     "metadata": {},
     "output_type": "display_data"
    },
    {
     "data": {
      "application/vnd.jupyter.widget-view+json": {
       "model_id": "271fe6c3c3c34d39b68a16a724a0fe6d",
       "version_major": 2,
       "version_minor": 0
      },
      "text/plain": [
       "  0%|          | 0/8 [00:00<?, ?it/s]"
      ]
     },
     "metadata": {},
     "output_type": "display_data"
    },
    {
     "data": {
      "application/vnd.jupyter.widget-view+json": {
       "model_id": "58213b527f92465bab2b9a81316e5079",
       "version_major": 2,
       "version_minor": 0
      },
      "text/plain": [
       "  0%|          | 0/8 [00:00<?, ?it/s]"
      ]
     },
     "metadata": {},
     "output_type": "display_data"
    },
    {
     "data": {
      "application/vnd.jupyter.widget-view+json": {
       "model_id": "9038ee1e44094ea6ab12a3d7a7786186",
       "version_major": 2,
       "version_minor": 0
      },
      "text/plain": [
       "  0%|          | 0/8 [00:00<?, ?it/s]"
      ]
     },
     "metadata": {},
     "output_type": "display_data"
    },
    {
     "data": {
      "application/vnd.jupyter.widget-view+json": {
       "model_id": "a9a588c3fd5b4f9aba8a44e88c313c7b",
       "version_major": 2,
       "version_minor": 0
      },
      "text/plain": [
       "  0%|          | 0/8 [00:00<?, ?it/s]"
      ]
     },
     "metadata": {},
     "output_type": "display_data"
    },
    {
     "data": {
      "application/vnd.jupyter.widget-view+json": {
       "model_id": "b5a599cc50b34ec0967b581ebcf60faa",
       "version_major": 2,
       "version_minor": 0
      },
      "text/plain": [
       "  0%|          | 0/8 [00:00<?, ?it/s]"
      ]
     },
     "metadata": {},
     "output_type": "display_data"
    },
    {
     "data": {
      "application/vnd.jupyter.widget-view+json": {
       "model_id": "5151cabe56a64c51b0d0e4bb1d197a9f",
       "version_major": 2,
       "version_minor": 0
      },
      "text/plain": [
       "  0%|          | 0/8 [00:00<?, ?it/s]"
      ]
     },
     "metadata": {},
     "output_type": "display_data"
    },
    {
     "data": {
      "application/vnd.jupyter.widget-view+json": {
       "model_id": "c0a6bc0adddd42659b96712e3607a7e9",
       "version_major": 2,
       "version_minor": 0
      },
      "text/plain": [
       "  0%|          | 0/8 [00:00<?, ?it/s]"
      ]
     },
     "metadata": {},
     "output_type": "display_data"
    },
    {
     "data": {
      "application/vnd.jupyter.widget-view+json": {
       "model_id": "5222007119984954b5b7dcb92541a929",
       "version_major": 2,
       "version_minor": 0
      },
      "text/plain": [
       "  0%|          | 0/8 [00:00<?, ?it/s]"
      ]
     },
     "metadata": {},
     "output_type": "display_data"
    },
    {
     "data": {
      "application/vnd.jupyter.widget-view+json": {
       "model_id": "1bbb82c90de3483c9d1fee461c8410e6",
       "version_major": 2,
       "version_minor": 0
      },
      "text/plain": [
       "  0%|          | 0/8 [00:00<?, ?it/s]"
      ]
     },
     "metadata": {},
     "output_type": "display_data"
    },
    {
     "data": {
      "application/vnd.jupyter.widget-view+json": {
       "model_id": "5ca04fc33d324afabae679ab65757e95",
       "version_major": 2,
       "version_minor": 0
      },
      "text/plain": [
       "  0%|          | 0/8 [00:00<?, ?it/s]"
      ]
     },
     "metadata": {},
     "output_type": "display_data"
    },
    {
     "data": {
      "application/vnd.jupyter.widget-view+json": {
       "model_id": "0172ff5c20f0436dbb2d77a25da871c7",
       "version_major": 2,
       "version_minor": 0
      },
      "text/plain": [
       "  0%|          | 0/8 [00:00<?, ?it/s]"
      ]
     },
     "metadata": {},
     "output_type": "display_data"
    },
    {
     "data": {
      "application/vnd.jupyter.widget-view+json": {
       "model_id": "94b71a3ddea146a99afde53054cb17b5",
       "version_major": 2,
       "version_minor": 0
      },
      "text/plain": [
       "  0%|          | 0/8 [00:00<?, ?it/s]"
      ]
     },
     "metadata": {},
     "output_type": "display_data"
    },
    {
     "data": {
      "application/vnd.jupyter.widget-view+json": {
       "model_id": "61d9e24b7244407db8e77dfb1c3b57b1",
       "version_major": 2,
       "version_minor": 0
      },
      "text/plain": [
       "  0%|          | 0/8 [00:00<?, ?it/s]"
      ]
     },
     "metadata": {},
     "output_type": "display_data"
    },
    {
     "data": {
      "application/vnd.jupyter.widget-view+json": {
       "model_id": "db45474f705d4df3aa060813ae3ce9af",
       "version_major": 2,
       "version_minor": 0
      },
      "text/plain": [
       "  0%|          | 0/8 [00:00<?, ?it/s]"
      ]
     },
     "metadata": {},
     "output_type": "display_data"
    },
    {
     "data": {
      "application/vnd.jupyter.widget-view+json": {
       "model_id": "69b91fc6e8d84f05a0fb61f7dfd70e08",
       "version_major": 2,
       "version_minor": 0
      },
      "text/plain": [
       "  0%|          | 0/8 [00:00<?, ?it/s]"
      ]
     },
     "metadata": {},
     "output_type": "display_data"
    },
    {
     "data": {
      "application/vnd.jupyter.widget-view+json": {
       "model_id": "f132aa3940284283a717eadc9b31359f",
       "version_major": 2,
       "version_minor": 0
      },
      "text/plain": [
       "  0%|          | 0/8 [00:00<?, ?it/s]"
      ]
     },
     "metadata": {},
     "output_type": "display_data"
    },
    {
     "data": {
      "application/vnd.jupyter.widget-view+json": {
       "model_id": "f63c12f0ed8148f79e475f17ad9fc36a",
       "version_major": 2,
       "version_minor": 0
      },
      "text/plain": [
       "  0%|          | 0/8 [00:00<?, ?it/s]"
      ]
     },
     "metadata": {},
     "output_type": "display_data"
    },
    {
     "data": {
      "application/vnd.jupyter.widget-view+json": {
       "model_id": "2a46d09866494f96bade3a97f8360150",
       "version_major": 2,
       "version_minor": 0
      },
      "text/plain": [
       "  0%|          | 0/8 [00:00<?, ?it/s]"
      ]
     },
     "metadata": {},
     "output_type": "display_data"
    },
    {
     "data": {
      "application/vnd.jupyter.widget-view+json": {
       "model_id": "eff86deb3a664c4e8e68cf429203ea7f",
       "version_major": 2,
       "version_minor": 0
      },
      "text/plain": [
       "  0%|          | 0/8 [00:00<?, ?it/s]"
      ]
     },
     "metadata": {},
     "output_type": "display_data"
    },
    {
     "data": {
      "application/vnd.jupyter.widget-view+json": {
       "model_id": "bc7876b05f184e13b449275533f601dc",
       "version_major": 2,
       "version_minor": 0
      },
      "text/plain": [
       "  0%|          | 0/8 [00:00<?, ?it/s]"
      ]
     },
     "metadata": {},
     "output_type": "display_data"
    },
    {
     "data": {
      "application/vnd.jupyter.widget-view+json": {
       "model_id": "39f3ded9149749cb9a477fc4f8463ac9",
       "version_major": 2,
       "version_minor": 0
      },
      "text/plain": [
       "  0%|          | 0/8 [00:00<?, ?it/s]"
      ]
     },
     "metadata": {},
     "output_type": "display_data"
    },
    {
     "data": {
      "application/vnd.jupyter.widget-view+json": {
       "model_id": "673e0c539ccf4f1ba48f8169c356ad38",
       "version_major": 2,
       "version_minor": 0
      },
      "text/plain": [
       "  0%|          | 0/8 [00:00<?, ?it/s]"
      ]
     },
     "metadata": {},
     "output_type": "display_data"
    },
    {
     "data": {
      "application/vnd.jupyter.widget-view+json": {
       "model_id": "547e3ac6dfa84f14a0460fcc34e6e9a2",
       "version_major": 2,
       "version_minor": 0
      },
      "text/plain": [
       "  0%|          | 0/8 [00:00<?, ?it/s]"
      ]
     },
     "metadata": {},
     "output_type": "display_data"
    },
    {
     "data": {
      "application/vnd.jupyter.widget-view+json": {
       "model_id": "af331a8c649048dcbaab33ae72118d6e",
       "version_major": 2,
       "version_minor": 0
      },
      "text/plain": [
       "  0%|          | 0/8 [00:00<?, ?it/s]"
      ]
     },
     "metadata": {},
     "output_type": "display_data"
    },
    {
     "data": {
      "application/vnd.jupyter.widget-view+json": {
       "model_id": "93720396520c45a4ad2bdf0e9fc902b4",
       "version_major": 2,
       "version_minor": 0
      },
      "text/plain": [
       "  0%|          | 0/8 [00:00<?, ?it/s]"
      ]
     },
     "metadata": {},
     "output_type": "display_data"
    },
    {
     "data": {
      "application/vnd.jupyter.widget-view+json": {
       "model_id": "20dda82000ad410fa3c80a09ea080bbc",
       "version_major": 2,
       "version_minor": 0
      },
      "text/plain": [
       "  0%|          | 0/8 [00:00<?, ?it/s]"
      ]
     },
     "metadata": {},
     "output_type": "display_data"
    },
    {
     "data": {
      "application/vnd.jupyter.widget-view+json": {
       "model_id": "04c3b743e894483aa3d0046e742b8b8b",
       "version_major": 2,
       "version_minor": 0
      },
      "text/plain": [
       "  0%|          | 0/8 [00:00<?, ?it/s]"
      ]
     },
     "metadata": {},
     "output_type": "display_data"
    }
   ],
   "source": [
    "for zarr_file in tqdm(glob(os.path.join(\"selected_zarrs\", \"*.zarr\"))[:num_samples]):\n",
    "    for ch in tqdm(channel_options_string):\n",
    "        for subset in [\"full\", 500, 1000, 2000]:\n",
    "            spatial = None if subset == \"full\" else subset\n",
    "            runtime, mem = benchmark_read_zarr(zarr_file, channels=ch, spatial_subset=spatial, trigger_read=False)\n",
    "            results.append({\n",
    "                \"format\": \"zarr_lazy\",\n",
    "                \"method\": \"lazy\",\n",
    "                \"subset\": subset if subset != \"full\" else 3000,\n",
    "                \"channels\": len(ch) if ch is not None else \"all\",\n",
    "                \"runtime_s\": runtime,\n",
    "                \"memory_mb\": mem,\n",
    "            })\n",
    "            gc.collect()"
   ]
  },
  {
   "cell_type": "code",
   "execution_count": 6,
   "id": "07102f46-cb91-4b5d-9ee2-ea7c2c2ca8e1",
   "metadata": {
    "tags": []
   },
   "outputs": [
    {
     "data": {
      "text/html": [
       "<div>\n",
       "<style scoped>\n",
       "    .dataframe tbody tr th:only-of-type {\n",
       "        vertical-align: middle;\n",
       "    }\n",
       "\n",
       "    .dataframe tbody tr th {\n",
       "        vertical-align: top;\n",
       "    }\n",
       "\n",
       "    .dataframe thead th {\n",
       "        text-align: right;\n",
       "    }\n",
       "</style>\n",
       "<table border=\"1\" class=\"dataframe\">\n",
       "  <thead>\n",
       "    <tr style=\"text-align: right;\">\n",
       "      <th></th>\n",
       "      <th>format</th>\n",
       "      <th>method</th>\n",
       "      <th>subset</th>\n",
       "      <th>channels</th>\n",
       "      <th>runtime_s</th>\n",
       "      <th>memory_mb</th>\n",
       "    </tr>\n",
       "  </thead>\n",
       "  <tbody>\n",
       "    <tr>\n",
       "      <th>0</th>\n",
       "      <td>tiff</td>\n",
       "      <td>full_then_subset</td>\n",
       "      <td>3000</td>\n",
       "      <td>1</td>\n",
       "      <td>3.297167</td>\n",
       "      <td>505.135131</td>\n",
       "    </tr>\n",
       "    <tr>\n",
       "      <th>1</th>\n",
       "      <td>tiff</td>\n",
       "      <td>full_then_subset</td>\n",
       "      <td>500</td>\n",
       "      <td>1</td>\n",
       "      <td>0.181292</td>\n",
       "      <td>505.061954</td>\n",
       "    </tr>\n",
       "    <tr>\n",
       "      <th>2</th>\n",
       "      <td>tiff</td>\n",
       "      <td>full_then_subset</td>\n",
       "      <td>1000</td>\n",
       "      <td>1</td>\n",
       "      <td>0.161686</td>\n",
       "      <td>505.061954</td>\n",
       "    </tr>\n",
       "    <tr>\n",
       "      <th>3</th>\n",
       "      <td>tiff</td>\n",
       "      <td>full_then_subset</td>\n",
       "      <td>2000</td>\n",
       "      <td>1</td>\n",
       "      <td>0.161177</td>\n",
       "      <td>505.061954</td>\n",
       "    </tr>\n",
       "    <tr>\n",
       "      <th>4</th>\n",
       "      <td>tiff</td>\n",
       "      <td>full_then_subset</td>\n",
       "      <td>3000</td>\n",
       "      <td>5</td>\n",
       "      <td>0.161310</td>\n",
       "      <td>505.061274</td>\n",
       "    </tr>\n",
       "    <tr>\n",
       "      <th>...</th>\n",
       "      <td>...</td>\n",
       "      <td>...</td>\n",
       "      <td>...</td>\n",
       "      <td>...</td>\n",
       "      <td>...</td>\n",
       "      <td>...</td>\n",
       "    </tr>\n",
       "    <tr>\n",
       "      <th>3835</th>\n",
       "      <td>zarr_lazy</td>\n",
       "      <td>lazy</td>\n",
       "      <td>2000</td>\n",
       "      <td>50</td>\n",
       "      <td>0.024742</td>\n",
       "      <td>1.144910</td>\n",
       "    </tr>\n",
       "    <tr>\n",
       "      <th>3836</th>\n",
       "      <td>zarr_lazy</td>\n",
       "      <td>lazy</td>\n",
       "      <td>3000</td>\n",
       "      <td>56</td>\n",
       "      <td>0.024962</td>\n",
       "      <td>1.141638</td>\n",
       "    </tr>\n",
       "    <tr>\n",
       "      <th>3837</th>\n",
       "      <td>zarr_lazy</td>\n",
       "      <td>lazy</td>\n",
       "      <td>500</td>\n",
       "      <td>56</td>\n",
       "      <td>0.014549</td>\n",
       "      <td>1.144910</td>\n",
       "    </tr>\n",
       "    <tr>\n",
       "      <th>3838</th>\n",
       "      <td>zarr_lazy</td>\n",
       "      <td>lazy</td>\n",
       "      <td>1000</td>\n",
       "      <td>56</td>\n",
       "      <td>0.015339</td>\n",
       "      <td>1.144910</td>\n",
       "    </tr>\n",
       "    <tr>\n",
       "      <th>3839</th>\n",
       "      <td>zarr_lazy</td>\n",
       "      <td>lazy</td>\n",
       "      <td>2000</td>\n",
       "      <td>56</td>\n",
       "      <td>0.016515</td>\n",
       "      <td>1.144910</td>\n",
       "    </tr>\n",
       "  </tbody>\n",
       "</table>\n",
       "<p>3840 rows × 6 columns</p>\n",
       "</div>"
      ],
      "text/plain": [
       "         format            method  subset  channels  runtime_s   memory_mb\n",
       "0          tiff  full_then_subset    3000         1   3.297167  505.135131\n",
       "1          tiff  full_then_subset     500         1   0.181292  505.061954\n",
       "2          tiff  full_then_subset    1000         1   0.161686  505.061954\n",
       "3          tiff  full_then_subset    2000         1   0.161177  505.061954\n",
       "4          tiff  full_then_subset    3000         5   0.161310  505.061274\n",
       "...         ...               ...     ...       ...        ...         ...\n",
       "3835  zarr_lazy              lazy    2000        50   0.024742    1.144910\n",
       "3836  zarr_lazy              lazy    3000        56   0.024962    1.141638\n",
       "3837  zarr_lazy              lazy     500        56   0.014549    1.144910\n",
       "3838  zarr_lazy              lazy    1000        56   0.015339    1.144910\n",
       "3839  zarr_lazy              lazy    2000        56   0.016515    1.144910\n",
       "\n",
       "[3840 rows x 6 columns]"
      ]
     },
     "execution_count": 6,
     "metadata": {},
     "output_type": "execute_result"
    }
   ],
   "source": [
    "# --- Results DataFrame ---\n",
    "df = pd.DataFrame(results)\n",
    "df"
   ]
  },
  {
   "cell_type": "code",
   "execution_count": 7,
   "id": "13c9068d-d889-47c8-9e8f-960e85786868",
   "metadata": {
    "tags": []
   },
   "outputs": [],
   "source": [
    "df.to_csv(\"results/file_reading/benchmark_results.csv\", index=False)"
   ]
  },
  {
   "cell_type": "code",
   "execution_count": 8,
   "id": "f060a18f-417a-4e10-8c9a-b9b4f1bc1e5a",
   "metadata": {
    "tags": []
   },
   "outputs": [
    {
     "data": {
      "text/plain": [
       "<Axes: xlabel='channels', ylabel='runtime_s'>"
      ]
     },
     "execution_count": 8,
     "metadata": {},
     "output_type": "execute_result"
    },
    {
     "data": {
      "image/png": "[encoded data removed]",
      "text/plain": [
       "<Figure size 1000x600 with 1 Axes>"
      ]
     },
     "metadata": {},
     "output_type": "display_data"
    }
   ],
   "source": [
    "df_tmp = df[df['subset'] == 3000]\n",
    "plt.figure(figsize=(10, 6))\n",
    "sns.lineplot(df_tmp, x='channels', y='runtime_s', hue='format')\n",
    "# plt.yscale('log')"
   ]
  },
  {
   "cell_type": "code",
   "execution_count": 9,
   "id": "b2bf39b6-2efc-4e93-a882-ff9bd26843cc",
   "metadata": {
    "tags": []
   },
   "outputs": [
    {
     "data": {
      "image/png": "[encoded data removed]",
      "text/plain": [
       "<Figure size 1000x600 with 1 Axes>"
      ]
     },
     "metadata": {},
     "output_type": "display_data"
    }
   ],
   "source": [
    "df_tmp = df[df['subset'] == 3000]\n",
    "plt.figure(figsize=(10, 6))\n",
    "sns.lineplot(df_tmp, x='channels', y='memory_mb', hue='format')\n",
    "plt.yscale('log')"
   ]
  },
  {
   "cell_type": "code",
   "execution_count": 10,
   "id": "76e99d27-b93a-45db-9233-97ab2dde4be6",
   "metadata": {
    "tags": []
   },
   "outputs": [
    {
     "data": {
      "text/plain": [
       "<Axes: xlabel='subset', ylabel='runtime_s'>"
      ]
     },
     "execution_count": 10,
     "metadata": {},
     "output_type": "execute_result"
    },
    {
     "data": {
      "image/png": "[encoded data removed]",
      "text/plain": [
       "<Figure size 1000x600 with 1 Axes>"
      ]
     },
     "metadata": {},
     "output_type": "display_data"
    }
   ],
   "source": [
    "df_tmp = df[df['channels'] == 56]\n",
    "plt.figure(figsize=(10, 6))\n",
    "sns.lineplot(df_tmp, x='subset', y='runtime_s', hue='format')\n",
    "# plt.yscale('log')"
   ]
  },
  {
   "cell_type": "code",
   "execution_count": 11,
   "id": "9fe5ea36-f33e-4b2b-b00f-9b5313641f63",
   "metadata": {
    "tags": []
   },
   "outputs": [
    {
     "data": {
      "image/png": "[encoded data removed]",
      "text/plain": [
       "<Figure size 1000x600 with 1 Axes>"
      ]
     },
     "metadata": {},
     "output_type": "display_data"
    }
   ],
   "source": [
    "df_tmp = df[df['channels'] == 56]\n",
    "plt.figure(figsize=(10, 6))\n",
    "sns.lineplot(df_tmp, x='subset', y='memory_mb', hue='format')\n",
    "plt.title(\"Peak Memory\")\n",
    "plt.yscale('log')"
   ]
  },
  {
   "cell_type": "markdown",
   "id": "7a6aefed-3c21-4368-8b99-540b32ae8af1",
   "metadata": {},
   "source": [
    "# Standalone experiments"
   ]
  },
  {
   "cell_type": "code",
   "execution_count": 12,
   "id": "7cc2d1d5-cf1e-4e5e-bf76-df56dd046b42",
   "metadata": {
    "tags": []
   },
   "outputs": [],
   "source": [
    "import time\n",
    "import tracemalloc\n",
    "import xarray as xr\n",
    "import tifffile\n",
    "import spatialproteomics as sp"
   ]
  },
  {
   "cell_type": "code",
   "execution_count": 13,
   "id": "3e7011a7-9031-42dd-9bd0-7f9e565193ed",
   "metadata": {
    "tags": []
   },
   "outputs": [
    {
     "name": "stdout",
     "output_type": "stream",
     "text": [
      "Time to open zarr: 0.0104 s\n",
      "Peak memory: 1.14 MB\n"
     ]
    }
   ],
   "source": [
    "# start memory tracking\n",
    "tracemalloc.start()\n",
    "\n",
    "start_time = time.perf_counter()\n",
    "ds = xr.open_zarr('selected_zarrs/DLBCL_1_1.zarr/')\n",
    "end_time = time.perf_counter()\n",
    "\n",
    "# get peak memory usage\n",
    "current, peak = tracemalloc.get_traced_memory()\n",
    "tracemalloc.stop()\n",
    "\n",
    "print(f\"Time to open zarr: {end_time - start_time:.4f} s\")\n",
    "print(f\"Peak memory: {peak / 1e6:.2f} MB\")"
   ]
  },
  {
   "cell_type": "code",
   "execution_count": 14,
   "id": "b2cd252c-76d6-4419-b195-4263fde13f07",
   "metadata": {
    "tags": []
   },
   "outputs": [
    {
     "name": "stdout",
     "output_type": "stream",
     "text": [
      "Time to open zarr: 0.1668 s\n",
      "Peak memory: 505.06 MB\n"
     ]
    }
   ],
   "source": [
    "# start memory tracking\n",
    "tracemalloc.start()\n",
    "\n",
    "start_time = time.perf_counter()\n",
    "ds = tifffile.imread('selected_tiffs/DLBCL_1_1.tiff')\n",
    "end_time = time.perf_counter()\n",
    "\n",
    "# get peak memory usage\n",
    "current, peak = tracemalloc.get_traced_memory()\n",
    "tracemalloc.stop()\n",
    "\n",
    "print(f\"Time to open zarr: {end_time - start_time:.4f} s\")\n",
    "print(f\"Peak memory: {peak / 1e6:.2f} MB\")"
   ]
  },
  {
   "cell_type": "code",
   "execution_count": 15,
   "id": "656ccedb-469b-4aad-a95a-50a56873b604",
   "metadata": {
    "tags": []
   },
   "outputs": [
    {
     "name": "stdout",
     "output_type": "stream",
     "text": [
      "Time to open zarr: 0.0110 s\n",
      "Peak memory: 1.14 MB\n"
     ]
    }
   ],
   "source": [
    "# start memory tracking\n",
    "tracemalloc.start()\n",
    "\n",
    "start_time = time.perf_counter()\n",
    "ds = xr.open_zarr('selected_zarrs/DLBCL_1_1.zarr/')\n",
    "ds = ds['_image']\n",
    "\n",
    "end_time = time.perf_counter()\n",
    "\n",
    "# get peak memory usage\n",
    "current, peak = tracemalloc.get_traced_memory()\n",
    "tracemalloc.stop()\n",
    "\n",
    "print(f\"Time to open zarr: {end_time - start_time:.4f} s\")\n",
    "print(f\"Peak memory: {peak / 1e6:.2f} MB\")"
   ]
  },
  {
   "cell_type": "code",
   "execution_count": 16,
   "id": "0a594c78-8d22-475b-a01a-a15c42d7b1a9",
   "metadata": {
    "tags": []
   },
   "outputs": [
    {
     "name": "stdout",
     "output_type": "stream",
     "text": [
      "Time to open zarr: 0.5154 s\n",
      "Peak memory: 1008.77 MB\n"
     ]
    }
   ],
   "source": [
    "# start memory tracking\n",
    "tracemalloc.start()\n",
    "\n",
    "start_time = time.perf_counter()\n",
    "ds = xr.open_zarr('selected_zarrs/DLBCL_1_1.zarr/')\n",
    "ds = ds['_image'].values\n",
    "\n",
    "end_time = time.perf_counter()\n",
    "\n",
    "# get peak memory usage\n",
    "current, peak = tracemalloc.get_traced_memory()\n",
    "tracemalloc.stop()\n",
    "\n",
    "print(f\"Time to open zarr: {end_time - start_time:.4f} s\")\n",
    "print(f\"Peak memory: {peak / 1e6:.2f} MB\")"
   ]
  },
  {
   "cell_type": "code",
   "execution_count": 17,
   "id": "5414d70a-a155-48fe-bd53-da0b5065d148",
   "metadata": {
    "tags": []
   },
   "outputs": [
    {
     "data": {
      "text/html": [
       "<div><svg style=\"position: absolute; width: 0; height: 0; overflow: hidden\">\n",
       "<defs>\n",
       "<symbol id=\"icon-database\" viewBox=\"0 0 32 32\">\n",
       "<path d=\"M16 0c-8.837 0-16 2.239-16 5v4c0 2.761 7.163 5 16 5s16-2.239 16-5v-4c0-2.761-7.163-5-16-5z\"></path>\n",
       "<path d=\"M16 17c-8.837 0-16-2.239-16-5v6c0 2.761 7.163 5 16 5s16-2.239 16-5v-6c0 2.761-7.163 5-16 5z\"></path>\n",
       "<path d=\"M16 26c-8.837 0-16-2.239-16-5v6c0 2.761 7.163 5 16 5s16-2.239 16-5v-6c0 2.761-7.163 5-16 5z\"></path>\n",
       "</symbol>\n",
       "<symbol id=\"icon-file-text2\" viewBox=\"0 0 32 32\">\n",
       "<path d=\"M28.681 7.159c-0.694-0.947-1.662-2.053-2.724-3.116s-2.169-2.030-3.116-2.724c-1.612-1.182-2.393-1.319-2.841-1.319h-15.5c-1.378 0-2.5 1.121-2.5 2.5v27c0 1.378 1.122 2.5 2.5 2.5h23c1.378 0 2.5-1.122 2.5-2.5v-19.5c0-0.448-0.137-1.23-1.319-2.841zM24.543 5.457c0.959 0.959 1.712 1.825 2.268 2.543h-4.811v-4.811c0.718 0.556 1.584 1.309 2.543 2.268zM28 29.5c0 0.271-0.229 0.5-0.5 0.5h-23c-0.271 0-0.5-0.229-0.5-0.5v-27c0-0.271 0.229-0.5 0.5-0.5 0 0 15.499-0 15.5 0v7c0 0.552 0.448 1 1 1h7v19.5z\"></path>\n",
       "<path d=\"M23 26h-14c-0.552 0-1-0.448-1-1s0.448-1 1-1h14c0.552 0 1 0.448 1 1s-0.448 1-1 1z\"></path>\n",
       "<path d=\"M23 22h-14c-0.552 0-1-0.448-1-1s0.448-1 1-1h14c0.552 0 1 0.448 1 1s-0.448 1-1 1z\"></path>\n",
       "<path d=\"M23 18h-14c-0.552 0-1-0.448-1-1s0.448-1 1-1h14c0.552 0 1 0.448 1 1s-0.448 1-1 1z\"></path>\n",
       "</symbol>\n",
       "</defs>\n",
       "</svg>\n",
       "<style>/* CSS stylesheet for displaying xarray objects in jupyterlab.\n",
       " *\n",
       " */\n",
       "\n",
       ":root {\n",
       "  --xr-font-color0: var(--jp-content-font-color0, rgba(0, 0, 0, 1));\n",
       "  --xr-font-color2: var(--jp-content-font-color2, rgba(0, 0, 0, 0.54));\n",
       "  --xr-font-color3: var(--jp-content-font-color3, rgba(0, 0, 0, 0.38));\n",
       "  --xr-border-color: var(--jp-border-color2, #e0e0e0);\n",
       "  --xr-disabled-color: var(--jp-layout-color3, #bdbdbd);\n",
       "  --xr-background-color: var(--jp-layout-color0, white);\n",
       "  --xr-background-color-row-even: var(--jp-layout-color1, white);\n",
       "  --xr-background-color-row-odd: var(--jp-layout-color2, #eeeeee);\n",
       "}\n",
       "\n",
       "html[theme=dark],\n",
       "html[data-theme=dark],\n",
       "body[data-theme=dark],\n",
       "body.vscode-dark {\n",
       "  --xr-font-color0: rgba(255, 255, 255, 1);\n",
       "  --xr-font-color2: rgba(255, 255, 255, 0.54);\n",
       "  --xr-font-color3: rgba(255, 255, 255, 0.38);\n",
       "  --xr-border-color: #1F1F1F;\n",
       "  --xr-disabled-color: #515151;\n",
       "  --xr-background-color: #111111;\n",
       "  --xr-background-color-row-even: #111111;\n",
       "  --xr-background-color-row-odd: #313131;\n",
       "}\n",
       "\n",
       ".xr-wrap {\n",
       "  display: block !important;\n",
       "  min-width: 300px;\n",
       "  max-width: 700px;\n",
       "}\n",
       "\n",
       ".xr-text-repr-fallback {\n",
       "  /* fallback to plain text repr when CSS is not injected (untrusted notebook) */\n",
       "  display: none;\n",
       "}\n",
       "\n",
       ".xr-header {\n",
       "  padding-top: 6px;\n",
       "  padding-bottom: 6px;\n",
       "  margin-bottom: 4px;\n",
       "  border-bottom: solid 1px var(--xr-border-color);\n",
       "}\n",
       "\n",
       ".xr-header > div,\n",
       ".xr-header > ul {\n",
       "  display: inline;\n",
       "  margin-top: 0;\n",
       "  margin-bottom: 0;\n",
       "}\n",
       "\n",
       ".xr-obj-type,\n",
       ".xr-array-name {\n",
       "  margin-left: 2px;\n",
       "  margin-right: 10px;\n",
       "}\n",
       "\n",
       ".xr-obj-type {\n",
       "  color: var(--xr-font-color2);\n",
       "}\n",
       "\n",
       ".xr-sections {\n",
       "  padding-left: 0 !important;\n",
       "  display: grid;\n",
       "  grid-template-columns: 150px auto auto 1fr 0 20px 0 20px;\n",
       "}\n",
       "\n",
       ".xr-section-item {\n",
       "  display: contents;\n",
       "}\n",
       "\n",
       ".xr-section-item input {\n",
       "  display: inline-block;\n",
       "  opacity: 0;\n",
       "}\n",
       "\n",
       ".xr-section-item input + label {\n",
       "  color: var(--xr-disabled-color);\n",
       "}\n",
       "\n",
       ".xr-section-item input:enabled + label {\n",
       "  cursor: pointer;\n",
       "  color: var(--xr-font-color2);\n",
       "}\n",
       "\n",
       ".xr-section-item input:focus + label {\n",
       "  border: 2px solid var(--xr-font-color0);\n",
       "}\n",
       "\n",
       ".xr-section-item input:enabled + label:hover {\n",
       "  color: var(--xr-font-color0);\n",
       "}\n",
       "\n",
       ".xr-section-summary {\n",
       "  grid-column: 1;\n",
       "  color: var(--xr-font-color2);\n",
       "  font-weight: 500;\n",
       "}\n",
       "\n",
       ".xr-section-summary > span {\n",
       "  display: inline-block;\n",
       "  padding-left: 0.5em;\n",
       "}\n",
       "\n",
       ".xr-section-summary-in:disabled + label {\n",
       "  color: var(--xr-font-color2);\n",
       "}\n",
       "\n",
       ".xr-section-summary-in + label:before {\n",
       "  display: inline-block;\n",
       "  content: '►';\n",
       "  font-size: 11px;\n",
       "  width: 15px;\n",
       "  text-align: center;\n",
       "}\n",
       "\n",
       ".xr-section-summary-in:disabled + label:before {\n",
       "  color: var(--xr-disabled-color);\n",
       "}\n",
       "\n",
       ".xr-section-summary-in:checked + label:before {\n",
       "  content: '▼';\n",
       "}\n",
       "\n",
       ".xr-section-summary-in:checked + label > span {\n",
       "  display: none;\n",
       "}\n",
       "\n",
       ".xr-section-summary,\n",
       ".xr-section-inline-details {\n",
       "  padding-top: 4px;\n",
       "  padding-bottom: 4px;\n",
       "}\n",
       "\n",
       ".xr-section-inline-details {\n",
       "  grid-column: 2 / -1;\n",
       "}\n",
       "\n",
       ".xr-section-details {\n",
       "  display: none;\n",
       "  grid-column: 1 / -1;\n",
       "  margin-bottom: 5px;\n",
       "}\n",
       "\n",
       ".xr-section-summary-in:checked ~ .xr-section-details {\n",
       "  display: contents;\n",
       "}\n",
       "\n",
       ".xr-array-wrap {\n",
       "  grid-column: 1 / -1;\n",
       "  display: grid;\n",
       "  grid-template-columns: 20px auto;\n",
       "}\n",
       "\n",
       ".xr-array-wrap > label {\n",
       "  grid-column: 1;\n",
       "  vertical-align: top;\n",
       "}\n",
       "\n",
       ".xr-preview {\n",
       "  color: var(--xr-font-color3);\n",
       "}\n",
       "\n",
       ".xr-array-preview,\n",
       ".xr-array-data {\n",
       "  padding: 0 5px !important;\n",
       "  grid-column: 2;\n",
       "}\n",
       "\n",
       ".xr-array-data,\n",
       ".xr-array-in:checked ~ .xr-array-preview {\n",
       "  display: none;\n",
       "}\n",
       "\n",
       ".xr-array-in:checked ~ .xr-array-data,\n",
       ".xr-array-preview {\n",
       "  display: inline-block;\n",
       "}\n",
       "\n",
       ".xr-dim-list {\n",
       "  display: inline-block !important;\n",
       "  list-style: none;\n",
       "  padding: 0 !important;\n",
       "  margin: 0;\n",
       "}\n",
       "\n",
       ".xr-dim-list li {\n",
       "  display: inline-block;\n",
       "  padding: 0;\n",
       "  margin: 0;\n",
       "}\n",
       "\n",
       ".xr-dim-list:before {\n",
       "  content: '(';\n",
       "}\n",
       "\n",
       ".xr-dim-list:after {\n",
       "  content: ')';\n",
       "}\n",
       "\n",
       ".xr-dim-list li:not(:last-child):after {\n",
       "  content: ',';\n",
       "  padding-right: 5px;\n",
       "}\n",
       "\n",
       ".xr-has-index {\n",
       "  font-weight: bold;\n",
       "}\n",
       "\n",
       ".xr-var-list,\n",
       ".xr-var-item {\n",
       "  display: contents;\n",
       "}\n",
       "\n",
       ".xr-var-item > div,\n",
       ".xr-var-item label,\n",
       ".xr-var-item > .xr-var-name span {\n",
       "  background-color: var(--xr-background-color-row-even);\n",
       "  margin-bottom: 0;\n",
       "}\n",
       "\n",
       ".xr-var-item > .xr-var-name:hover span {\n",
       "  padding-right: 5px;\n",
       "}\n",
       "\n",
       ".xr-var-list > li:nth-child(odd) > div,\n",
       ".xr-var-list > li:nth-child(odd) > label,\n",
       ".xr-var-list > li:nth-child(odd) > .xr-var-name span {\n",
       "  background-color: var(--xr-background-color-row-odd);\n",
       "}\n",
       "\n",
       ".xr-var-name {\n",
       "  grid-column: 1;\n",
       "}\n",
       "\n",
       ".xr-var-dims {\n",
       "  grid-column: 2;\n",
       "}\n",
       "\n",
       ".xr-var-dtype {\n",
       "  grid-column: 3;\n",
       "  text-align: right;\n",
       "  color: var(--xr-font-color2);\n",
       "}\n",
       "\n",
       ".xr-var-preview {\n",
       "  grid-column: 4;\n",
       "}\n",
       "\n",
       ".xr-index-preview {\n",
       "  grid-column: 2 / 5;\n",
       "  color: var(--xr-font-color2);\n",
       "}\n",
       "\n",
       ".xr-var-name,\n",
       ".xr-var-dims,\n",
       ".xr-var-dtype,\n",
       ".xr-preview,\n",
       ".xr-attrs dt {\n",
       "  white-space: nowrap;\n",
       "  overflow: hidden;\n",
       "  text-overflow: ellipsis;\n",
       "  padding-right: 10px;\n",
       "}\n",
       "\n",
       ".xr-var-name:hover,\n",
       ".xr-var-dims:hover,\n",
       ".xr-var-dtype:hover,\n",
       ".xr-attrs dt:hover {\n",
       "  overflow: visible;\n",
       "  width: auto;\n",
       "  z-index: 1;\n",
       "}\n",
       "\n",
       ".xr-var-attrs,\n",
       ".xr-var-data,\n",
       ".xr-index-data {\n",
       "  display: none;\n",
       "  background-color: var(--xr-background-color) !important;\n",
       "  padding-bottom: 5px !important;\n",
       "}\n",
       "\n",
       ".xr-var-attrs-in:checked ~ .xr-var-attrs,\n",
       ".xr-var-data-in:checked ~ .xr-var-data,\n",
       ".xr-index-data-in:checked ~ .xr-index-data {\n",
       "  display: block;\n",
       "}\n",
       "\n",
       ".xr-var-data > table {\n",
       "  float: right;\n",
       "}\n",
       "\n",
       ".xr-var-name span,\n",
       ".xr-var-data,\n",
       ".xr-index-name div,\n",
       ".xr-index-data,\n",
       ".xr-attrs {\n",
       "  padding-left: 25px !important;\n",
       "}\n",
       "\n",
       ".xr-attrs,\n",
       ".xr-var-attrs,\n",
       ".xr-var-data,\n",
       ".xr-index-data {\n",
       "  grid-column: 1 / -1;\n",
       "}\n",
       "\n",
       "dl.xr-attrs {\n",
       "  padding: 0;\n",
       "  margin: 0;\n",
       "  display: grid;\n",
       "  grid-template-columns: 125px auto;\n",
       "}\n",
       "\n",
       ".xr-attrs dt,\n",
       ".xr-attrs dd {\n",
       "  padding: 0;\n",
       "  margin: 0;\n",
       "  float: left;\n",
       "  padding-right: 10px;\n",
       "  width: auto;\n",
       "}\n",
       "\n",
       ".xr-attrs dt {\n",
       "  font-weight: normal;\n",
       "  grid-column: 1;\n",
       "}\n",
       "\n",
       ".xr-attrs dt:hover span {\n",
       "  display: inline-block;\n",
       "  background: var(--xr-background-color);\n",
       "  padding-right: 10px;\n",
       "}\n",
       "\n",
       ".xr-attrs dd {\n",
       "  grid-column: 2;\n",
       "  white-space: pre-wrap;\n",
       "  word-break: break-all;\n",
       "}\n",
       "\n",
       ".xr-icon-database,\n",
       ".xr-icon-file-text2,\n",
       ".xr-no-icon {\n",
       "  display: inline-block;\n",
       "  vertical-align: middle;\n",
       "  width: 1em;\n",
       "  height: 1.5em !important;\n",
       "  stroke-width: 0;\n",
       "  stroke: currentColor;\n",
       "  fill: currentColor;\n",
       "}\n",
       "</style><pre class='xr-text-repr-fallback'>&lt;xarray.DataArray &#x27;_image&#x27; (channels: 56, y: 3000, x: 3000)&gt; Size: 504MB\n",
       "dask.array&lt;open_dataset-_image, shape=(56, 3000, 3000), dtype=uint8, chunksize=(7, 375, 750), chunktype=numpy.ndarray&gt;\n",
       "Coordinates:\n",
       "  * channels  (channels) &lt;U11 2kB &#x27;DAPI&#x27; &#x27;Helios&#x27; &#x27;CD10&#x27; ... &#x27;CD79a&#x27; &#x27;Ki-67&#x27;\n",
       "  * x         (x) int64 24kB 0 1 2 3 4 5 6 ... 2994 2995 2996 2997 2998 2999\n",
       "  * y         (y) int64 24kB 0 1 2 3 4 5 6 ... 2994 2995 2996 2997 2998 2999</pre><div class='xr-wrap' style='display:none'><div class='xr-header'><div class='xr-obj-type'>xarray.DataArray</div><div class='xr-array-name'>'_image'</div><ul class='xr-dim-list'><li><span class='xr-has-index'>channels</span>: 56</li><li><span class='xr-has-index'>y</span>: 3000</li><li><span class='xr-has-index'>x</span>: 3000</li></ul></div><ul class='xr-sections'><li class='xr-section-item'><div class='xr-array-wrap'><input id='section-0a12dc4e-c938-4847-860f-289f8f0b6247' class='xr-array-in' type='checkbox' checked><label for='section-0a12dc4e-c938-4847-860f-289f8f0b6247' title='Show/hide data repr'><svg class='icon xr-icon-database'><use xlink:href='#icon-database'></use></svg></label><div class='xr-array-preview xr-preview'><span>dask.array&lt;chunksize=(7, 375, 750), meta=np.ndarray&gt;</span></div><div class='xr-array-data'><table>\n",
       "    <tr>\n",
       "        <td>\n",
       "            <table style=\"border-collapse: collapse;\">\n",
       "                <thead>\n",
       "                    <tr>\n",
       "                        <td> </td>\n",
       "                        <th> Array </th>\n",
       "                        <th> Chunk </th>\n",
       "                    </tr>\n",
       "                </thead>\n",
       "                <tbody>\n",
       "                    \n",
       "                    <tr>\n",
       "                        <th> Bytes </th>\n",
       "                        <td> 480.65 MiB </td>\n",
       "                        <td> 1.88 MiB </td>\n",
       "                    </tr>\n",
       "                    \n",
       "                    <tr>\n",
       "                        <th> Shape </th>\n",
       "                        <td> (56, 3000, 3000) </td>\n",
       "                        <td> (7, 375, 750) </td>\n",
       "                    </tr>\n",
       "                    <tr>\n",
       "                        <th> Dask graph </th>\n",
       "                        <td colspan=\"2\"> 256 chunks in 2 graph layers </td>\n",
       "                    </tr>\n",
       "                    <tr>\n",
       "                        <th> Data type </th>\n",
       "                        <td colspan=\"2\"> uint8 numpy.ndarray </td>\n",
       "                    </tr>\n",
       "                </tbody>\n",
       "            </table>\n",
       "        </td>\n",
       "        <td>\n",
       "        <svg width=\"196\" height=\"186\" style=\"stroke:rgb(0,0,0);stroke-width:1\" >\n",
       "\n",
       "  <!-- Horizontal lines -->\n",
       "  <line x1=\"10\" y1=\"0\" x2=\"26\" y2=\"16\" style=\"stroke-width:2\" />\n",
       "  <line x1=\"10\" y1=\"15\" x2=\"26\" y2=\"31\" />\n",
       "  <line x1=\"10\" y1=\"30\" x2=\"26\" y2=\"46\" />\n",
       "  <line x1=\"10\" y1=\"45\" x2=\"26\" y2=\"61\" />\n",
       "  <line x1=\"10\" y1=\"60\" x2=\"26\" y2=\"76\" />\n",
       "  <line x1=\"10\" y1=\"75\" x2=\"26\" y2=\"91\" />\n",
       "  <line x1=\"10\" y1=\"90\" x2=\"26\" y2=\"106\" />\n",
       "  <line x1=\"10\" y1=\"105\" x2=\"26\" y2=\"121\" />\n",
       "  <line x1=\"10\" y1=\"120\" x2=\"26\" y2=\"136\" style=\"stroke-width:2\" />\n",
       "\n",
       "  <!-- Vertical lines -->\n",
       "  <line x1=\"10\" y1=\"0\" x2=\"10\" y2=\"120\" style=\"stroke-width:2\" />\n",
       "  <line x1=\"12\" y1=\"2\" x2=\"12\" y2=\"122\" />\n",
       "  <line x1=\"14\" y1=\"4\" x2=\"14\" y2=\"124\" />\n",
       "  <line x1=\"16\" y1=\"6\" x2=\"16\" y2=\"126\" />\n",
       "  <line x1=\"18\" y1=\"8\" x2=\"18\" y2=\"128\" />\n",
       "  <line x1=\"20\" y1=\"10\" x2=\"20\" y2=\"130\" />\n",
       "  <line x1=\"22\" y1=\"12\" x2=\"22\" y2=\"132\" />\n",
       "  <line x1=\"24\" y1=\"14\" x2=\"24\" y2=\"134\" />\n",
       "  <line x1=\"26\" y1=\"16\" x2=\"26\" y2=\"136\" style=\"stroke-width:2\" />\n",
       "\n",
       "  <!-- Colored Rectangle -->\n",
       "  <polygon points=\"10.0,0.0 26.8499639175441,16.8499639175441 26.8499639175441,136.8499639175441 10.0,120.0\" style=\"fill:#ECB172A0;stroke-width:0\"/>\n",
       "\n",
       "  <!-- Horizontal lines -->\n",
       "  <line x1=\"10\" y1=\"0\" x2=\"130\" y2=\"0\" style=\"stroke-width:2\" />\n",
       "  <line x1=\"12\" y1=\"2\" x2=\"132\" y2=\"2\" />\n",
       "  <line x1=\"14\" y1=\"4\" x2=\"134\" y2=\"4\" />\n",
       "  <line x1=\"16\" y1=\"6\" x2=\"136\" y2=\"6\" />\n",
       "  <line x1=\"18\" y1=\"8\" x2=\"138\" y2=\"8\" />\n",
       "  <line x1=\"20\" y1=\"10\" x2=\"140\" y2=\"10\" />\n",
       "  <line x1=\"22\" y1=\"12\" x2=\"142\" y2=\"12\" />\n",
       "  <line x1=\"24\" y1=\"14\" x2=\"144\" y2=\"14\" />\n",
       "  <line x1=\"26\" y1=\"16\" x2=\"146\" y2=\"16\" style=\"stroke-width:2\" />\n",
       "\n",
       "  <!-- Vertical lines -->\n",
       "  <line x1=\"10\" y1=\"0\" x2=\"26\" y2=\"16\" style=\"stroke-width:2\" />\n",
       "  <line x1=\"40\" y1=\"0\" x2=\"56\" y2=\"16\" />\n",
       "  <line x1=\"70\" y1=\"0\" x2=\"86\" y2=\"16\" />\n",
       "  <line x1=\"100\" y1=\"0\" x2=\"116\" y2=\"16\" />\n",
       "  <line x1=\"130\" y1=\"0\" x2=\"146\" y2=\"16\" style=\"stroke-width:2\" />\n",
       "\n",
       "  <!-- Colored Rectangle -->\n",
       "  <polygon points=\"10.0,0.0 130.0,0.0 146.8499639175441,16.8499639175441 26.8499639175441,16.8499639175441\" style=\"fill:#ECB172A0;stroke-width:0\"/>\n",
       "\n",
       "  <!-- Horizontal lines -->\n",
       "  <line x1=\"26\" y1=\"16\" x2=\"146\" y2=\"16\" style=\"stroke-width:2\" />\n",
       "  <line x1=\"26\" y1=\"31\" x2=\"146\" y2=\"31\" />\n",
       "  <line x1=\"26\" y1=\"46\" x2=\"146\" y2=\"46\" />\n",
       "  <line x1=\"26\" y1=\"61\" x2=\"146\" y2=\"61\" />\n",
       "  <line x1=\"26\" y1=\"76\" x2=\"146\" y2=\"76\" />\n",
       "  <line x1=\"26\" y1=\"91\" x2=\"146\" y2=\"91\" />\n",
       "  <line x1=\"26\" y1=\"106\" x2=\"146\" y2=\"106\" />\n",
       "  <line x1=\"26\" y1=\"121\" x2=\"146\" y2=\"121\" />\n",
       "  <line x1=\"26\" y1=\"136\" x2=\"146\" y2=\"136\" style=\"stroke-width:2\" />\n",
       "\n",
       "  <!-- Vertical lines -->\n",
       "  <line x1=\"26\" y1=\"16\" x2=\"26\" y2=\"136\" style=\"stroke-width:2\" />\n",
       "  <line x1=\"56\" y1=\"16\" x2=\"56\" y2=\"136\" />\n",
       "  <line x1=\"86\" y1=\"16\" x2=\"86\" y2=\"136\" />\n",
       "  <line x1=\"116\" y1=\"16\" x2=\"116\" y2=\"136\" />\n",
       "  <line x1=\"146\" y1=\"16\" x2=\"146\" y2=\"136\" style=\"stroke-width:2\" />\n",
       "\n",
       "  <!-- Colored Rectangle -->\n",
       "  <polygon points=\"26.8499639175441,16.8499639175441 146.8499639175441,16.8499639175441 146.8499639175441,136.8499639175441 26.8499639175441,136.8499639175441\" style=\"fill:#ECB172A0;stroke-width:0\"/>\n",
       "\n",
       "  <!-- Text -->\n",
       "  <text x=\"86.849964\" y=\"156.849964\" font-size=\"1.0rem\" font-weight=\"100\" text-anchor=\"middle\" >3000</text>\n",
       "  <text x=\"166.849964\" y=\"76.849964\" font-size=\"1.0rem\" font-weight=\"100\" text-anchor=\"middle\" transform=\"rotate(-90,166.849964,76.849964)\">3000</text>\n",
       "  <text x=\"8.424982\" y=\"148.424982\" font-size=\"1.0rem\" font-weight=\"100\" text-anchor=\"middle\" transform=\"rotate(45,8.424982,148.424982)\">56</text>\n",
       "</svg>\n",
       "        </td>\n",
       "    </tr>\n",
       "</table></div></div></li><li class='xr-section-item'><input id='section-e4d41706-6a88-4881-bafe-8c07bdb85ec2' class='xr-section-summary-in' type='checkbox'  checked><label for='section-e4d41706-6a88-4881-bafe-8c07bdb85ec2' class='xr-section-summary' >Coordinates: <span>(3)</span></label><div class='xr-section-inline-details'></div><div class='xr-section-details'><ul class='xr-var-list'><li class='xr-var-item'><div class='xr-var-name'><span class='xr-has-index'>channels</span></div><div class='xr-var-dims'>(channels)</div><div class='xr-var-dtype'>&lt;U11</div><div class='xr-var-preview xr-preview'>&#x27;DAPI&#x27; &#x27;Helios&#x27; ... &#x27;CD79a&#x27; &#x27;Ki-67&#x27;</div><input id='attrs-605a8c68-895e-4bf9-bfd9-d20537f6c7c5' class='xr-var-attrs-in' type='checkbox' disabled><label for='attrs-605a8c68-895e-4bf9-bfd9-d20537f6c7c5' title='Show/Hide attributes'><svg class='icon xr-icon-file-text2'><use xlink:href='#icon-file-text2'></use></svg></label><input id='data-1168e035-303b-4d27-8fd0-49c5201048ae' class='xr-var-data-in' type='checkbox'><label for='data-1168e035-303b-4d27-8fd0-49c5201048ae' title='Show/Hide data repr'><svg class='icon xr-icon-database'><use xlink:href='#icon-database'></use></svg></label><div class='xr-var-attrs'><dl class='xr-attrs'></dl></div><div class='xr-var-data'><pre>array([&#x27;DAPI&#x27;, &#x27;Helios&#x27;, &#x27;CD10&#x27;, &#x27;TCF7/TCF1&#x27;, &#x27;PD-L1&#x27;, &#x27;BCL-6&#x27;, &#x27;FOXP3&#x27;,\n",
       "       &#x27;CD69&#x27;, &#x27;Perforin&#x27;, &#x27;CD19&#x27;, &#x27;LAG3&#x27;, &#x27;CD21&#x27;, &#x27;CD62L&#x27;, &#x27;c-myc&#x27;, &#x27;CD138&#x27;,\n",
       "       &#x27;CD15&#x27;, &#x27;BCL-2&#x27;, &#x27;CD56&#x27;, &#x27;IKZF3&#x27;, &#x27;CD25&#x27;, &#x27;NOXA&#x27;, &#x27;Tim3&#x27;, &#x27;Serpin B9&#x27;,\n",
       "       &#x27;Podoplanin&#x27;, &#x27;CD38&#x27;, &#x27;SPARC&#x27;, &#x27;ICOS&#x27;, &#x27;CXCR5&#x27;, &#x27;CD163&#x27;, &#x27;FADD&#x27;, &#x27;p53&#x27;,\n",
       "       &#x27;Collagen IV&#x27;, &#x27;CD4&#x27;, &#x27;CD7&#x27;, &#x27;Kappa&#x27;, &#x27;CD20&#x27;, &#x27;CD34&#x27;, &#x27;PAX5&#x27;, &#x27;PD-1&#x27;,\n",
       "       &#x27;CD45RA&#x27;, &#x27;CD11b&#x27;, &#x27;Lambda&#x27;, &#x27;CD57&#x27;, &#x27;CD11c&#x27;, &#x27;CD90&#x27;, &#x27;HLA DR&#x27;, &#x27;CD68&#x27;,\n",
       "       &#x27;CD31&#x27;, &#x27;CD45&#x27;, &#x27;CD3&#x27;, &#x27;Cytokeratin&#x27;, &#x27;CD45RO&#x27;, &#x27;CD8&#x27;, &#x27;Granzyme B&#x27;,\n",
       "       &#x27;CD79a&#x27;, &#x27;Ki-67&#x27;], dtype=&#x27;&lt;U11&#x27;)</pre></div></li><li class='xr-var-item'><div class='xr-var-name'><span class='xr-has-index'>x</span></div><div class='xr-var-dims'>(x)</div><div class='xr-var-dtype'>int64</div><div class='xr-var-preview xr-preview'>0 1 2 3 4 ... 2996 2997 2998 2999</div><input id='attrs-5dfe016e-a94f-4d33-8ffc-c73213cf82f6' class='xr-var-attrs-in' type='checkbox' disabled><label for='attrs-5dfe016e-a94f-4d33-8ffc-c73213cf82f6' title='Show/Hide attributes'><svg class='icon xr-icon-file-text2'><use xlink:href='#icon-file-text2'></use></svg></label><input id='data-1213f5c9-134a-4150-ad6a-c5dc3078ce45' class='xr-var-data-in' type='checkbox'><label for='data-1213f5c9-134a-4150-ad6a-c5dc3078ce45' title='Show/Hide data repr'><svg class='icon xr-icon-database'><use xlink:href='#icon-database'></use></svg></label><div class='xr-var-attrs'><dl class='xr-attrs'></dl></div><div class='xr-var-data'><pre>array([   0,    1,    2, ..., 2997, 2998, 2999])</pre></div></li><li class='xr-var-item'><div class='xr-var-name'><span class='xr-has-index'>y</span></div><div class='xr-var-dims'>(y)</div><div class='xr-var-dtype'>int64</div><div class='xr-var-preview xr-preview'>0 1 2 3 4 ... 2996 2997 2998 2999</div><input id='attrs-90d130b7-7925-42a0-9fd9-ea03a84c1382' class='xr-var-attrs-in' type='checkbox' disabled><label for='attrs-90d130b7-7925-42a0-9fd9-ea03a84c1382' title='Show/Hide attributes'><svg class='icon xr-icon-file-text2'><use xlink:href='#icon-file-text2'></use></svg></label><input id='data-0a6aa9fb-e3ae-4653-86f8-f68d5f5a6f3c' class='xr-var-data-in' type='checkbox'><label for='data-0a6aa9fb-e3ae-4653-86f8-f68d5f5a6f3c' title='Show/Hide data repr'><svg class='icon xr-icon-database'><use xlink:href='#icon-database'></use></svg></label><div class='xr-var-attrs'><dl class='xr-attrs'></dl></div><div class='xr-var-data'><pre>array([   0,    1,    2, ..., 2997, 2998, 2999])</pre></div></li></ul></div></li><li class='xr-section-item'><input id='section-7bd9986e-a6b6-4852-b039-06f6c9883a69' class='xr-section-summary-in' type='checkbox'  ><label for='section-7bd9986e-a6b6-4852-b039-06f6c9883a69' class='xr-section-summary' >Indexes: <span>(3)</span></label><div class='xr-section-inline-details'></div><div class='xr-section-details'><ul class='xr-var-list'><li class='xr-var-item'><div class='xr-index-name'><div>channels</div></div><div class='xr-index-preview'>PandasIndex</div><div></div><input id='index-76c9096a-4499-435e-9279-f2723520de15' class='xr-index-data-in' type='checkbox'/><label for='index-76c9096a-4499-435e-9279-f2723520de15' title='Show/Hide index repr'><svg class='icon xr-icon-database'><use xlink:href='#icon-database'></use></svg></label><div class='xr-index-data'><pre>PandasIndex(Index([&#x27;DAPI&#x27;, &#x27;Helios&#x27;, &#x27;CD10&#x27;, &#x27;TCF7/TCF1&#x27;, &#x27;PD-L1&#x27;, &#x27;BCL-6&#x27;, &#x27;FOXP3&#x27;,\n",
       "       &#x27;CD69&#x27;, &#x27;Perforin&#x27;, &#x27;CD19&#x27;, &#x27;LAG3&#x27;, &#x27;CD21&#x27;, &#x27;CD62L&#x27;, &#x27;c-myc&#x27;, &#x27;CD138&#x27;,\n",
       "       &#x27;CD15&#x27;, &#x27;BCL-2&#x27;, &#x27;CD56&#x27;, &#x27;IKZF3&#x27;, &#x27;CD25&#x27;, &#x27;NOXA&#x27;, &#x27;Tim3&#x27;, &#x27;Serpin B9&#x27;,\n",
       "       &#x27;Podoplanin&#x27;, &#x27;CD38&#x27;, &#x27;SPARC&#x27;, &#x27;ICOS&#x27;, &#x27;CXCR5&#x27;, &#x27;CD163&#x27;, &#x27;FADD&#x27;, &#x27;p53&#x27;,\n",
       "       &#x27;Collagen IV&#x27;, &#x27;CD4&#x27;, &#x27;CD7&#x27;, &#x27;Kappa&#x27;, &#x27;CD20&#x27;, &#x27;CD34&#x27;, &#x27;PAX5&#x27;, &#x27;PD-1&#x27;,\n",
       "       &#x27;CD45RA&#x27;, &#x27;CD11b&#x27;, &#x27;Lambda&#x27;, &#x27;CD57&#x27;, &#x27;CD11c&#x27;, &#x27;CD90&#x27;, &#x27;HLA DR&#x27;, &#x27;CD68&#x27;,\n",
       "       &#x27;CD31&#x27;, &#x27;CD45&#x27;, &#x27;CD3&#x27;, &#x27;Cytokeratin&#x27;, &#x27;CD45RO&#x27;, &#x27;CD8&#x27;, &#x27;Granzyme B&#x27;,\n",
       "       &#x27;CD79a&#x27;, &#x27;Ki-67&#x27;],\n",
       "      dtype=&#x27;object&#x27;, name=&#x27;channels&#x27;))</pre></div></li><li class='xr-var-item'><div class='xr-index-name'><div>x</div></div><div class='xr-index-preview'>PandasIndex</div><div></div><input id='index-bac2c3b7-1f45-425d-b9ef-2dd165874ce5' class='xr-index-data-in' type='checkbox'/><label for='index-bac2c3b7-1f45-425d-b9ef-2dd165874ce5' title='Show/Hide index repr'><svg class='icon xr-icon-database'><use xlink:href='#icon-database'></use></svg></label><div class='xr-index-data'><pre>PandasIndex(Index([   0,    1,    2,    3,    4,    5,    6,    7,    8,    9,\n",
       "       ...\n",
       "       2990, 2991, 2992, 2993, 2994, 2995, 2996, 2997, 2998, 2999],\n",
       "      dtype=&#x27;int64&#x27;, name=&#x27;x&#x27;, length=3000))</pre></div></li><li class='xr-var-item'><div class='xr-index-name'><div>y</div></div><div class='xr-index-preview'>PandasIndex</div><div></div><input id='index-de4cf862-bdff-49e9-8569-3bc3fb201d0e' class='xr-index-data-in' type='checkbox'/><label for='index-de4cf862-bdff-49e9-8569-3bc3fb201d0e' title='Show/Hide index repr'><svg class='icon xr-icon-database'><use xlink:href='#icon-database'></use></svg></label><div class='xr-index-data'><pre>PandasIndex(Index([   0,    1,    2,    3,    4,    5,    6,    7,    8,    9,\n",
       "       ...\n",
       "       2990, 2991, 2992, 2993, 2994, 2995, 2996, 2997, 2998, 2999],\n",
       "      dtype=&#x27;int64&#x27;, name=&#x27;y&#x27;, length=3000))</pre></div></li></ul></div></li><li class='xr-section-item'><input id='section-a5aed301-d58c-4399-847f-2516331c9727' class='xr-section-summary-in' type='checkbox' disabled ><label for='section-a5aed301-d58c-4399-847f-2516331c9727' class='xr-section-summary'  title='Expand/collapse section'>Attributes: <span>(0)</span></label><div class='xr-section-inline-details'></div><div class='xr-section-details'><dl class='xr-attrs'></dl></div></li></ul></div></div>"
      ],
      "text/plain": [
       "<xarray.DataArray '_image' (channels: 56, y: 3000, x: 3000)> Size: 504MB\n",
       "dask.array<open_dataset-_image, shape=(56, 3000, 3000), dtype=uint8, chunksize=(7, 375, 750), chunktype=numpy.ndarray>\n",
       "Coordinates:\n",
       "  * channels  (channels) <U11 2kB 'DAPI' 'Helios' 'CD10' ... 'CD79a' 'Ki-67'\n",
       "  * x         (x) int64 24kB 0 1 2 3 4 5 6 ... 2994 2995 2996 2997 2998 2999\n",
       "  * y         (y) int64 24kB 0 1 2 3 4 5 6 ... 2994 2995 2996 2997 2998 2999"
      ]
     },
     "execution_count": 17,
     "metadata": {},
     "output_type": "execute_result"
    }
   ],
   "source": [
    "ds = xr.open_zarr('selected_zarrs/DLBCL_1_1.zarr/')\n",
    "ds['_image']"
   ]
  },
  {
   "cell_type": "code",
   "execution_count": 18,
   "id": "da3cabc9-d589-4356-a2cb-ac5d140167bd",
   "metadata": {
    "tags": []
   },
   "outputs": [
    {
     "name": "stdout",
     "output_type": "stream",
     "text": [
      "Peak memory: 1008.60 MB\n"
     ]
    }
   ],
   "source": [
    "tracemalloc.start()\n",
    "ds = xr.open_zarr('selected_zarrs/DLBCL_1_1.zarr/')\n",
    "ds['_image'].values\n",
    "current, peak = tracemalloc.get_traced_memory()\n",
    "tracemalloc.stop()\n",
    "print(f\"Peak memory: {peak / 1e6:.2f} MB\")"
   ]
  },
  {
   "cell_type": "code",
   "execution_count": 19,
   "id": "5b527045-0be2-4715-b647-df858a652bce",
   "metadata": {
    "tags": []
   },
   "outputs": [
    {
     "data": {
      "text/plain": [
       "504000000"
      ]
     },
     "execution_count": 19,
     "metadata": {},
     "output_type": "execute_result"
    }
   ],
   "source": [
    "ds['_image'].values.nbytes"
   ]
  },
  {
   "cell_type": "markdown",
   "id": "992a31cd-69f8-4bc5-8360-b3af644525b6",
   "metadata": {},
   "source": [
    "# Standalone example"
   ]
  },
  {
   "cell_type": "code",
   "execution_count": 20,
   "id": "7b2cf37a-8cfb-4cd2-ad2d-ed618f429928",
   "metadata": {
    "tags": []
   },
   "outputs": [
    {
     "name": "stdout",
     "output_type": "stream",
     "text": [
      "Lazy size: 450.0 MB\n",
      "Chunks: (50, 1638, 1638)\n",
      "Array shape: (50, 3000, 3000), dtype: uint8\n",
      "NumPy nbytes: 450.00 MB\n",
      "Peak memory (tracemalloc): 900.03 MB\n"
     ]
    }
   ],
   "source": [
    "import numpy as np\n",
    "import dask.array as da\n",
    "import xarray as xr\n",
    "import tracemalloc\n",
    "\n",
    "# --- Step 1: Create a dataset ---\n",
    "shape = (50, 3000, 3000)\n",
    "data = da.random.randint(0, 255, size=shape, dtype=\"uint8\")\n",
    "\n",
    "ds = xr.Dataset({\"_image\": ((\"c\", \"y\", \"x\"), data)})\n",
    "\n",
    "# --- Step 2: Check lazy size ---\n",
    "print(\"Lazy size:\", ds[\"_image\"].nbytes / 1e6, \"MB\")\n",
    "print(\"Chunks:\", ds[\"_image\"].data.chunksize)\n",
    "\n",
    "# --- Step 3: Benchmark peak memory ---\n",
    "tracemalloc.start()\n",
    "\n",
    "# This will **load everything into memory** and materialize one big NumPy array\n",
    "arr = ds[\"_image\"].values  \n",
    "\n",
    "current, peak = tracemalloc.get_traced_memory()\n",
    "tracemalloc.stop()\n",
    "\n",
    "print(f\"Array shape: {arr.shape}, dtype: {arr.dtype}\")\n",
    "print(f\"NumPy nbytes: {arr.nbytes/1e6:.2f} MB\")\n",
    "print(f\"Peak memory (tracemalloc): {peak/1e6:.2f} MB\")"
   ]
  },
  {
   "cell_type": "markdown",
   "id": "fe5f3ea9-7c0f-4d0d-a379-7a5f21b5d3eb",
   "metadata": {},
   "source": [
    "# New plot that combines different subsetting"
   ]
  },
  {
   "cell_type": "code",
   "execution_count": 21,
   "id": "acd466ad-53ad-4258-8be9-2c661384350d",
   "metadata": {},
   "outputs": [
    {
     "data": {
      "text/html": [
       "<div>\n",
       "<style scoped>\n",
       "    .dataframe tbody tr th:only-of-type {\n",
       "        vertical-align: middle;\n",
       "    }\n",
       "\n",
       "    .dataframe tbody tr th {\n",
       "        vertical-align: top;\n",
       "    }\n",
       "\n",
       "    .dataframe thead th {\n",
       "        text-align: right;\n",
       "    }\n",
       "</style>\n",
       "<table border=\"1\" class=\"dataframe\">\n",
       "  <thead>\n",
       "    <tr style=\"text-align: right;\">\n",
       "      <th></th>\n",
       "      <th>format</th>\n",
       "      <th>method</th>\n",
       "      <th>subset</th>\n",
       "      <th>channels</th>\n",
       "      <th>runtime_s</th>\n",
       "      <th>memory_mb</th>\n",
       "    </tr>\n",
       "  </thead>\n",
       "  <tbody>\n",
       "    <tr>\n",
       "      <th>0</th>\n",
       "      <td>tiff</td>\n",
       "      <td>full_then_subset</td>\n",
       "      <td>3000</td>\n",
       "      <td>1</td>\n",
       "      <td>3.297167</td>\n",
       "      <td>505.135131</td>\n",
       "    </tr>\n",
       "    <tr>\n",
       "      <th>1</th>\n",
       "      <td>tiff</td>\n",
       "      <td>full_then_subset</td>\n",
       "      <td>500</td>\n",
       "      <td>1</td>\n",
       "      <td>0.181292</td>\n",
       "      <td>505.061954</td>\n",
       "    </tr>\n",
       "    <tr>\n",
       "      <th>2</th>\n",
       "      <td>tiff</td>\n",
       "      <td>full_then_subset</td>\n",
       "      <td>1000</td>\n",
       "      <td>1</td>\n",
       "      <td>0.161686</td>\n",
       "      <td>505.061954</td>\n",
       "    </tr>\n",
       "    <tr>\n",
       "      <th>3</th>\n",
       "      <td>tiff</td>\n",
       "      <td>full_then_subset</td>\n",
       "      <td>2000</td>\n",
       "      <td>1</td>\n",
       "      <td>0.161177</td>\n",
       "      <td>505.061954</td>\n",
       "    </tr>\n",
       "    <tr>\n",
       "      <th>4</th>\n",
       "      <td>tiff</td>\n",
       "      <td>full_then_subset</td>\n",
       "      <td>3000</td>\n",
       "      <td>5</td>\n",
       "      <td>0.161310</td>\n",
       "      <td>505.061274</td>\n",
       "    </tr>\n",
       "    <tr>\n",
       "      <th>...</th>\n",
       "      <td>...</td>\n",
       "      <td>...</td>\n",
       "      <td>...</td>\n",
       "      <td>...</td>\n",
       "      <td>...</td>\n",
       "      <td>...</td>\n",
       "    </tr>\n",
       "    <tr>\n",
       "      <th>3835</th>\n",
       "      <td>zarr_lazy</td>\n",
       "      <td>lazy</td>\n",
       "      <td>2000</td>\n",
       "      <td>50</td>\n",
       "      <td>0.024742</td>\n",
       "      <td>1.144910</td>\n",
       "    </tr>\n",
       "    <tr>\n",
       "      <th>3836</th>\n",
       "      <td>zarr_lazy</td>\n",
       "      <td>lazy</td>\n",
       "      <td>3000</td>\n",
       "      <td>56</td>\n",
       "      <td>0.024962</td>\n",
       "      <td>1.141638</td>\n",
       "    </tr>\n",
       "    <tr>\n",
       "      <th>3837</th>\n",
       "      <td>zarr_lazy</td>\n",
       "      <td>lazy</td>\n",
       "      <td>500</td>\n",
       "      <td>56</td>\n",
       "      <td>0.014549</td>\n",
       "      <td>1.144910</td>\n",
       "    </tr>\n",
       "    <tr>\n",
       "      <th>3838</th>\n",
       "      <td>zarr_lazy</td>\n",
       "      <td>lazy</td>\n",
       "      <td>1000</td>\n",
       "      <td>56</td>\n",
       "      <td>0.015339</td>\n",
       "      <td>1.144910</td>\n",
       "    </tr>\n",
       "    <tr>\n",
       "      <th>3839</th>\n",
       "      <td>zarr_lazy</td>\n",
       "      <td>lazy</td>\n",
       "      <td>2000</td>\n",
       "      <td>56</td>\n",
       "      <td>0.016515</td>\n",
       "      <td>1.144910</td>\n",
       "    </tr>\n",
       "  </tbody>\n",
       "</table>\n",
       "<p>3840 rows × 6 columns</p>\n",
       "</div>"
      ],
      "text/plain": [
       "         format            method  subset  channels  runtime_s   memory_mb\n",
       "0          tiff  full_then_subset    3000         1   3.297167  505.135131\n",
       "1          tiff  full_then_subset     500         1   0.181292  505.061954\n",
       "2          tiff  full_then_subset    1000         1   0.161686  505.061954\n",
       "3          tiff  full_then_subset    2000         1   0.161177  505.061954\n",
       "4          tiff  full_then_subset    3000         5   0.161310  505.061274\n",
       "...         ...               ...     ...       ...        ...         ...\n",
       "3835  zarr_lazy              lazy    2000        50   0.024742    1.144910\n",
       "3836  zarr_lazy              lazy    3000        56   0.024962    1.141638\n",
       "3837  zarr_lazy              lazy     500        56   0.014549    1.144910\n",
       "3838  zarr_lazy              lazy    1000        56   0.015339    1.144910\n",
       "3839  zarr_lazy              lazy    2000        56   0.016515    1.144910\n",
       "\n",
       "[3840 rows x 6 columns]"
      ]
     },
     "execution_count": 21,
     "metadata": {},
     "output_type": "execute_result"
    }
   ],
   "source": [
    "df = pd.read_csv(\"results/file_reading/benchmark_results.csv\")\n",
    "df"
   ]
  },
  {
   "cell_type": "code",
   "execution_count": 22,
   "id": "9e60e704-4bc7-4017-b07a-f7a5a5014c06",
   "metadata": {},
   "outputs": [],
   "source": [
    "tiffile_baseline = df[df['format'] == 'tiff']['memory_mb'].mean()"
   ]
  },
  {
   "cell_type": "code",
   "execution_count": 32,
   "id": "e4071c72-686d-4115-ae1a-ebf26b62d270",
   "metadata": {},
   "outputs": [
    {
     "data": {
      "image/png": "[encoded data removed]",
      "text/plain": [
       "<Figure size 2100x1200 with 2 Axes>"
      ]
     },
     "metadata": {},
     "output_type": "display_data"
    }
   ],
   "source": [
    "import matplotlib.pyplot as plt\n",
    "import matplotlib.colors as mcolors\n",
    "import matplotlib.cm as cm\n",
    "import seaborn as sns\n",
    "import numpy as np\n",
    "import matplotlib as mpl\n",
    "\n",
    "mpl.style.core.use('/g/huber/users/meyerben/notebooks/spatialproteomics_pipelines/spatialproteomics_bnhl/figures/pub_matplotlib_rc.ini')\n",
    "font_size = 6.5\n",
    "point_size = 20\n",
    "point_border_color = '#49566d'  # dark gray\n",
    "line_width = 0.6\n",
    "\n",
    "# Set global font size\n",
    "plt.rcParams.update({\"font.size\": font_size})  # Adjust the value as needed\n",
    "\n",
    "# --- Global style ---\n",
    "mpl.rcParams.update({\n",
    "    \"font.size\": font_size,        # for labels, ticks, legends\n",
    "    \"axes.labelsize\": font_size,   # axis labels\n",
    "    \"xtick.labelsize\": font_size,  # x tick labels\n",
    "    \"ytick.labelsize\": font_size,  # y tick labels\n",
    "    \"legend.fontsize\": font_size,  # legend text\n",
    "    \"lines.linewidth\": line_width, # default line width\n",
    "    \"axes.linewidth\": line_width,  # axes border width\n",
    "    \"grid.linewidth\": line_width   # grid lines\n",
    "})\n",
    "\n",
    "# --- Prep data ---\n",
    "df_tmp = df[df['format'] == 'zarr_compute'].copy()\n",
    "df_tmp['subset'] = [x**2 for x in df_tmp['subset'].values]\n",
    "\n",
    "# --- Make plot ---\n",
    "fig, ax = plt.subplots(figsize=(3.5, 2), dpi=600)\n",
    "\n",
    "# --- Add baseline line + label ---\n",
    "ax.axhline(tiffile_baseline, xmin=0, xmax=1, color='gray', linestyle='dashed')\n",
    "ax.text(\n",
    "    x=df_tmp['subset'].min() - 300000,\n",
    "    y=tiffile_baseline + 20,\n",
    "    s=\"Full dataset size (tiff)\",\n",
    "    color=\"gray\",\n",
    "    ha=\"left\", va=\"bottom\",\n",
    "    fontsize=font_size\n",
    ")\n",
    "\n",
    "# Define custom continuous colormap\n",
    "bottom_color = \"#9dcbec\"\n",
    "top_color = \"#1a4e91\"\n",
    "cmap = mcolors.LinearSegmentedColormap.from_list(\"custom_cmap\", [bottom_color, top_color])\n",
    "norm = mcolors.Normalize(vmin=df_tmp['channels'].min(), vmax=df_tmp['channels'].max())\n",
    "\n",
    "# Use seaborn lineplot with custom palette (sample colormap for each channel)\n",
    "unique_channels = np.sort(df_tmp['channels'].unique())\n",
    "palette = {ch: cmap(norm(ch)) for ch in unique_channels}\n",
    "\n",
    "sns.lineplot(\n",
    "    data=df_tmp,\n",
    "    x=\"subset\",\n",
    "    y=\"memory_mb\",\n",
    "    hue=\"channels\",\n",
    "    palette=palette,\n",
    "    ax=ax,\n",
    "    errorbar=\"sd\",   # show standard deviation as shaded area\n",
    "    linewidth=line_width\n",
    ")\n",
    "\n",
    "# --- Label channel lines at their last point ---\n",
    "for channel in unique_channels:\n",
    "    subdf = df_tmp[df_tmp[\"channels\"] == channel]\n",
    "    mean_vals = subdf.groupby(\"subset\")[\"memory_mb\"].mean().reset_index()\n",
    "    last_row = mean_vals.sort_values(\"subset\").iloc[-1]\n",
    "\n",
    "    ax.text(\n",
    "        x=last_row[\"subset\"]+100000,\n",
    "        y=last_row[\"memory_mb\"],\n",
    "        s=str(channel),\n",
    "        color=palette[channel],\n",
    "        ha=\"left\",\n",
    "        va=\"center\",\n",
    "        fontsize=font_size\n",
    "    )\n",
    "\n",
    "# --- Add colorbar ---\n",
    "sm = cm.ScalarMappable(cmap=cmap, norm=norm)\n",
    "sm.set_array([])\n",
    "cbar = fig.colorbar(sm, ax=ax)\n",
    "cbar.set_label(\"Number of channels\", fontsize=font_size)\n",
    "\n",
    "# --- Customize x-ticks ---\n",
    "custom_ticks = [0, 1000000, 4000000, 9000000]\n",
    "custom_labels = [\"0\", \"1M\", \"4M\", \"Full\"]\n",
    "\n",
    "ax.set_xticks(custom_ticks)\n",
    "ax.set_xticklabels(custom_labels)\n",
    "\n",
    "# --- Style ---\n",
    "sns.despine()\n",
    "ax.set_xlabel(\"Spatial subset (px²)\")\n",
    "ax.set_ylabel(\"Peak memory (MB)\")\n",
    "# ax.set_title(\"Memory consumption when subsetting TMA cores\")\n",
    "ax.get_legend().remove()\n",
    "\n",
    "# --- After plotting, also update colorbar font and line width ---\n",
    "cbar.ax.tick_params(labelsize=font_size)  # colorbar ticks\n",
    "cbar.set_label(\"Number of channels\", fontsize=font_size)\n",
    "\n",
    "plt.tight_layout()\n",
    "\n",
    "plt.savefig('figs/supp_fig_7a.svg', bbox_inches='tight', pad_inches=0)\n",
    "plt.show()"
   ]
  },
  {
   "cell_type": "code",
   "execution_count": null,
   "id": "932b1c0d-a495-4329-93be-edaaca0fe36b",
   "metadata": {},
   "outputs": [],
   "source": []
  }
 ],
 "metadata": {
  "kernelspec": {
   "display_name": "tmp_env_3",
   "language": "python",
   "name": "tmp_env_3"
  },
  "language_info": {
   "codemirror_mode": {
    "name": "ipython",
    "version": 3
   },
   "file_extension": ".py",
   "mimetype": "text/x-python",
   "name": "python",
   "nbconvert_exporter": "python",
   "pygments_lexer": "ipython3",
   "version": "3.10.0"
  }
 },
 "nbformat": 4,
 "nbformat_minor": 5
}
