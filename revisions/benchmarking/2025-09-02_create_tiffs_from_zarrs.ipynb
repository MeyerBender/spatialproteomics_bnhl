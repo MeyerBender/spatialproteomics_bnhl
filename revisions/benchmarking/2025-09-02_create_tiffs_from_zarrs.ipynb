{
 "cells": [
  {
   "cell_type": "code",
   "execution_count": 6,
   "id": "f608ebba-b658-4aa8-b8be-1dafd8bdfc28",
   "metadata": {
    "tags": []
   },
   "outputs": [],
   "source": [
    "from glob import glob\n",
    "import os\n",
    "import xarray as xr\n",
    "import tifffile\n",
    "import numpy as np\n",
    "\n",
    "files = glob('selected_zarrs/*.zarr')\n",
    "\n",
    "# output folders\n",
    "outdirs = {\n",
    "    \"full\": \"selected_tiffs\",\n",
    "}\n",
    "\n",
    "for d in outdirs.values():\n",
    "    os.makedirs(d, exist_ok=True)\n",
    "\n",
    "for file in files:\n",
    "    ds = xr.open_zarr(file)\n",
    "    img = ds[\"_image\"].values  # numpy array\n",
    "\n",
    "    # save full image\n",
    "    base = os.path.basename(file).replace(\".zarr\", \".tiff\")\n",
    "    tifffile.imwrite(os.path.join(outdirs[\"full\"], base), img, photometric=\"minisblack\")\n",
    "\n",
    "    # spatial dimensions (assuming img shape is (X, Y, channels) or (channels, X, Y))\n",
    "    if img.ndim == 3:\n",
    "        _, H, W = img.shape\n",
    "        channel_first = True\n",
    "\n",
    "    # save cropped subsets\n",
    "    for size, outdir in outdirs.items():\n",
    "        if size == \"full\":\n",
    "            continue\n",
    "\n",
    "        if H < size or W < size:\n",
    "            print(f\"Skipping {base} for size {size}, image too small. {H=}, {W=}, {size=}\")\n",
    "            continue\n",
    "\n",
    "        minx = (H - size) // 2\n",
    "        miny = (W - size) // 2\n",
    "        maxx = minx + size\n",
    "        maxy = miny + size\n",
    "\n",
    "        if channel_first:\n",
    "            img_crop = img[:, minx:maxx, miny:maxy]\n",
    "        else:\n",
    "            img_crop = img[minx:maxx, miny:maxy, :]\n",
    "\n",
    "        outpath = os.path.join(outdir, base.replace(\".tiff\", f\"_{size}.tiff\"))\n",
    "        tifffile.imwrite(outpath, img_crop, photometric=\"minisblack\")\n",
    "\n",
    "    print(f\"Saved {outpath}\")"
   ]
  },
  {
   "cell_type": "code",
   "execution_count": null,
   "id": "08ff399e-0df5-4ce9-b311-69d004f8c66f",
   "metadata": {},
   "outputs": [],
   "source": []
  }
 ],
 "metadata": {
  "kernelspec": {
   "display_name": "tmp_env_3",
   "language": "python",
   "name": "tmp_env_3"
  },
  "language_info": {
   "codemirror_mode": {
    "name": "ipython",
    "version": 3
   },
   "file_extension": ".py",
   "mimetype": "text/x-python",
   "name": "python",
   "nbconvert_exporter": "python",
   "pygments_lexer": "ipython3",
   "version": "3.10.0"
  }
 },
 "nbformat": 4,
 "nbformat_minor": 5
}
