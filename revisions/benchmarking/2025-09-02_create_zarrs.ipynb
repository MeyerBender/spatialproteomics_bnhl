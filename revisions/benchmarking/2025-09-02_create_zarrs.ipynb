{
 "cells": [
  {
   "cell_type": "code",
   "execution_count": 1,
   "id": "ff345ff0-e7f7-476b-bc4c-20a6c3af07bb",
   "metadata": {
    "tags": []
   },
   "outputs": [],
   "source": [
    "import random\n",
    "import os\n",
    "from glob import glob\n",
    "import xarray as xr\n",
    "import shutil\n",
    "import spatialproteomics as sp\n",
    "\n",
    "def load_zarr(sample_id, source_dir=\"/g/huber/users/meyerben/data/codex/BNHL/data_for_publication/tmas_unzipped\"):\n",
    "    ds = xr.open_zarr(f\"{source_dir}/{sample_id}.zarr\")\n",
    "    img_raw = ds['_image_raw'].values\n",
    "    markers = ds.coords['channels'].values\n",
    "    ds = sp.load_image_data(img_raw, channel_coords=markers)\n",
    "    return ds"
   ]
  },
  {
   "cell_type": "code",
   "execution_count": 2,
   "id": "0eb4a0bd-d238-4a45-9a22-0a396f505536",
   "metadata": {
    "tags": []
   },
   "outputs": [
    {
     "name": "stdout",
     "output_type": "stream",
     "text": [
      "Found 21 files for entity FL 1\n",
      "Selected samples:\n",
      "FL 1_10_1\n",
      "FL 1_10_2\n",
      "FL 1_7_1\n",
      "FL 1_7_2\n",
      "FL 1_3_1\n",
      "FL 1_3_2\n",
      "FL 1_9_1\n",
      "FL 1_9_2\n",
      "FL 1_4_1\n",
      "FL 1_4_2\n",
      "FL 1_5_1\n",
      "FL 1_5_2\n",
      "FL 1_11_1\n",
      "FL 1_11_2\n",
      "FL 1_6_1\n",
      "FL 1_6_2\n",
      "FL 1_8_1\n",
      "FL 1_8_2\n",
      "FL 1_2_2\n",
      "FL 1_2_1\n",
      "Found 49 files for entity DLBCL\n",
      "Selected samples:\n",
      "DLBCL_20_1\n",
      "DLBCL_20_2\n",
      "DLBCL_6_2\n",
      "DLBCL_6_1\n",
      "DLBCL_21_1\n",
      "DLBCL_21_2\n",
      "DLBCL_25_1\n",
      "DLBCL_25_2\n",
      "DLBCL_1_1\n",
      "DLBCL_1_2\n",
      "DLBCL_14_1\n",
      "DLBCL_14_2\n",
      "DLBCL_23_1\n",
      "DLBCL_23_2\n",
      "DLBCL_4_1\n",
      "DLBCL_4_2\n",
      "DLBCL_8_1\n",
      "DLBCL_8_2\n",
      "DLBCL_13_1\n",
      "DLBCL_13_2\n"
     ]
    }
   ],
   "source": [
    "files = glob('/g/huber/users/meyerben/data/codex/BNHL/data_for_publication/tmas_unzipped/*.zarr')\n",
    "\n",
    "# set seed for reproducibility\n",
    "random.seed(42)\n",
    "\n",
    "# output folder\n",
    "outdir = \"selected_zarrs\"\n",
    "os.makedirs(outdir, exist_ok=True)\n",
    "\n",
    "# only looking at FL1 and DLBCL\n",
    "for entity in ['FL 1', 'DLBCL']:\n",
    "    files_subset = [x for x in files if x.split('/')[-1].startswith(entity)]\n",
    "    print(f\"Found {len(files_subset)} files for entity {entity}\")\n",
    "\n",
    "    # parse into entity_patient_replicate\n",
    "    parsed = [f.split('/')[-1].replace('.zarr', '').split('_') for f in files_subset]\n",
    "    patient_to_samples = {}\n",
    "    for (entity_id, patient_id, replicate_id), f in zip(parsed, files_subset):\n",
    "        sample_id = f.split('/')[-1].replace('.zarr', '')\n",
    "        patient_to_samples.setdefault(patient_id, []).append(sample_id)\n",
    "\n",
    "    # keep only patients with 2 replicates\n",
    "    eligible_patients = {p: s for p, s in patient_to_samples.items() if len(s) == 2}\n",
    "\n",
    "    # randomly select 10 patients\n",
    "    selected_patients = random.sample(list(eligible_patients.keys()), 10)\n",
    "\n",
    "    # collect sample IDs\n",
    "    selected_samples = [s for p in selected_patients for s in eligible_patients[p]]\n",
    "\n",
    "    print(\"Selected samples:\")\n",
    "    for s in selected_samples:\n",
    "        print(s)\n",
    "\n",
    "        # load and re-save with your loader\n",
    "        ds = load_zarr(s, source_dir=\"/g/huber/users/meyerben/data/codex/BNHL/data_for_publication/tmas_unzipped\")\n",
    "        dest = os.path.join(outdir, f\"{s}.zarr\")\n",
    "\n",
    "        # overwrite if exists\n",
    "        if os.path.exists(dest):\n",
    "            shutil.rmtree(dest)\n",
    "\n",
    "        ds.to_zarr(dest)"
   ]
  },
  {
   "cell_type": "code",
   "execution_count": null,
   "id": "c5156a2e-df5a-4ccd-b4d1-606fcb625b5c",
   "metadata": {},
   "outputs": [],
   "source": []
  }
 ],
 "metadata": {
  "kernelspec": {
   "display_name": "tmp_env_3",
   "language": "python",
   "name": "tmp_env_3"
  },
  "language_info": {
   "codemirror_mode": {
    "name": "ipython",
    "version": 3
   },
   "file_extension": ".py",
   "mimetype": "text/x-python",
   "name": "python",
   "nbconvert_exporter": "python",
   "pygments_lexer": "ipython3",
   "version": "3.10.0"
  }
 },
 "nbformat": 4,
 "nbformat_minor": 5
}
